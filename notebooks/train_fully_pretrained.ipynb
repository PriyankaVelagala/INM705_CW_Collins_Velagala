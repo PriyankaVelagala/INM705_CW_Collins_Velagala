{
 "cells": [
  {
   "cell_type": "code",
   "execution_count": 1,
   "id": "0df43f32-7949-4e7a-90be-f6797c667b83",
   "metadata": {},
   "outputs": [
    {
     "name": "stdout",
     "output_type": "stream",
     "text": [
      "Looking in indexes: https://pypi.tuna.tsinghua.edu.cn/simple\n",
      "Collecting ujson\n",
      "  Using cached https://pypi.tuna.tsinghua.edu.cn/packages/f8/8c/5274ba7b4df814c87a8840a58e2b1dae6a489f49c3b0fad2d15f1e41d47b/ujson-5.3.0-cp38-cp38-manylinux_2_17_x86_64.manylinux2014_x86_64.whl (45 kB)\n",
      "Installing collected packages: ujson\n",
      "Successfully installed ujson-5.3.0\n",
      "\u001b[33mWARNING: Running pip as the 'root' user can result in broken permissions and conflicting behaviour with the system package manager. It is recommended to use a virtual environment instead: https://pip.pypa.io/warnings/venv\u001b[0m\u001b[33m\n",
      "\u001b[0m\u001b[33mWARNING: You are using pip version 22.0.4; however, version 22.1 is available.\n",
      "You should consider upgrading via the '/opt/conda/bin/python3.8 -m pip install --upgrade pip' command.\u001b[0m\u001b[33m\n",
      "\u001b[0mLooking in indexes: https://pypi.tuna.tsinghua.edu.cn/simple\n",
      "Collecting seaborn\n",
      "  Using cached https://pypi.tuna.tsinghua.edu.cn/packages/10/5b/0479d7d845b5ba410ca702ffcd7f2cd95a14a4dfff1fde2637802b258b9b/seaborn-0.11.2-py3-none-any.whl (292 kB)\n",
      "Requirement already satisfied: scipy>=1.0 in /opt/conda/lib/python3.8/site-packages (from seaborn) (1.6.3)\n",
      "Requirement already satisfied: pandas>=0.23 in /opt/conda/lib/python3.8/site-packages (from seaborn) (1.4.2)\n",
      "Requirement already satisfied: matplotlib>=2.2 in /opt/conda/lib/python3.8/site-packages (from seaborn) (3.5.2)\n",
      "Requirement already satisfied: numpy>=1.15 in /opt/conda/lib/python3.8/site-packages (from seaborn) (1.20.3)\n",
      "Requirement already satisfied: pyparsing>=2.2.1 in /opt/conda/lib/python3.8/site-packages (from matplotlib>=2.2->seaborn) (2.4.7)\n",
      "Requirement already satisfied: python-dateutil>=2.7 in /opt/conda/lib/python3.8/site-packages (from matplotlib>=2.2->seaborn) (2.8.1)\n",
      "Requirement already satisfied: kiwisolver>=1.0.1 in /opt/conda/lib/python3.8/site-packages (from matplotlib>=2.2->seaborn) (1.3.1)\n",
      "Requirement already satisfied: packaging>=20.0 in /opt/conda/lib/python3.8/site-packages (from matplotlib>=2.2->seaborn) (20.9)\n",
      "Requirement already satisfied: cycler>=0.10 in /opt/conda/lib/python3.8/site-packages (from matplotlib>=2.2->seaborn) (0.10.0)\n",
      "Requirement already satisfied: fonttools>=4.22.0 in /opt/conda/lib/python3.8/site-packages (from matplotlib>=2.2->seaborn) (4.33.3)\n",
      "Requirement already satisfied: pillow>=6.2.0 in /opt/conda/lib/python3.8/site-packages (from matplotlib>=2.2->seaborn) (9.1.0)\n",
      "Requirement already satisfied: pytz>=2020.1 in /opt/conda/lib/python3.8/site-packages (from pandas>=0.23->seaborn) (2021.1)\n",
      "Requirement already satisfied: six in /opt/conda/lib/python3.8/site-packages (from cycler>=0.10->matplotlib>=2.2->seaborn) (1.16.0)\n",
      "Installing collected packages: seaborn\n",
      "Successfully installed seaborn-0.11.2\n",
      "\u001b[33mWARNING: Running pip as the 'root' user can result in broken permissions and conflicting behaviour with the system package manager. It is recommended to use a virtual environment instead: https://pip.pypa.io/warnings/venv\u001b[0m\u001b[33m\n",
      "\u001b[0m\u001b[33mWARNING: You are using pip version 22.0.4; however, version 22.1 is available.\n",
      "You should consider upgrading via the '/opt/conda/bin/python3.8 -m pip install --upgrade pip' command.\u001b[0m\u001b[33m\n",
      "\u001b[0m"
     ]
    }
   ],
   "source": [
    "!pip install ujson \n",
    "!pip install seaborn"
   ]
  },
  {
   "cell_type": "code",
   "execution_count": 2,
   "id": "8110a508-5c22-443e-8c2d-1f2785961a11",
   "metadata": {},
   "outputs": [],
   "source": [
    "import sys \n",
    "sys.path.append('../')"
   ]
  },
  {
   "cell_type": "code",
   "execution_count": 3,
   "id": "dc16b26c-4d09-4f3e-9f19-dcb81493fcd6",
   "metadata": {
    "tags": []
   },
   "outputs": [],
   "source": [
    "import os\n",
    "import torch\n",
    "from PIL import Image\n",
    "import pandas as pd \n",
    "import sys \n",
    "import json \n",
    "from src import dataset_lvis\n",
    "from src import metrics\n",
    "from src import helper_functions as helper\n",
    "import importlib\n",
    "from pathlib import Path \n",
    "from PIL import Image as PILImage\n",
    "import numpy as np\n",
    "import matplotlib.pyplot as plt\n",
    "from torch.optim.lr_scheduler import StepLR\n",
    "import pandas as pd \n",
    "import time \n",
    "import torchvision\n",
    "from torchvision.models.detection.faster_rcnn import FastRCNNPredictor\n",
    "from torchvision.models.detection.mask_rcnn import MaskRCNNPredictor\n",
    "import matplotlib.pyplot as plt \n",
    "import seaborn as sns \n",
    "sns.set()"
   ]
  },
  {
   "cell_type": "code",
   "execution_count": 4,
   "id": "713acfd1-c1cf-44fa-b17f-bb640870fab9",
   "metadata": {},
   "outputs": [
    {
     "data": {
      "text/plain": [
       "<module 'src.dataset_lvis' from '/home/INM705/INM705_CW_Collins_Velagala/notebooks/../src/dataset_lvis.py'>"
      ]
     },
     "execution_count": 4,
     "metadata": {},
     "output_type": "execute_result"
    }
   ],
   "source": [
    "importlib.reload(dataset_lvis)"
   ]
  },
  {
   "cell_type": "code",
   "execution_count": 5,
   "id": "97408296-2f70-4eaa-8243-c5fdb4345c5a",
   "metadata": {},
   "outputs": [
    {
     "data": {
      "text/plain": [
       "device(type='cuda')"
      ]
     },
     "execution_count": 5,
     "metadata": {},
     "output_type": "execute_result"
    }
   ],
   "source": [
    "device = torch.device(\"cuda\" if torch.cuda.is_available() else \"cpu\")\n",
    "device"
   ]
  },
  {
   "cell_type": "markdown",
   "id": "422fa061-629f-46cb-b3df-99a9c7afbcde",
   "metadata": {},
   "source": [
    "# Load train and validation data "
   ]
  },
  {
   "cell_type": "code",
   "execution_count": 6,
   "id": "39685c2e-8366-47b5-9e5b-6b40e2d8c012",
   "metadata": {},
   "outputs": [
    {
     "name": "stdout",
     "output_type": "stream",
     "text": [
      "classes : {1: 'cappuccino', 2: 'chessboard', 3: 'coffee_maker', 4: 'cowboy_hat', 5: 'drumstick', 6: 'monkey'}\n",
      "loaded 618 positive set images\n",
      "loaded 0 negative set images\n",
      "loaded 25 non-exhaustive set images\n",
      "Loaded 593 images!\n",
      "class 1 has 71 positive and 0 negative images\n",
      "class 2 has 9 positive and 0 negative images\n",
      "class 3 has 233 positive and 0 negative images\n",
      "class 4 has 199 positive and 0 negative images\n",
      "class 5 has 8 positive and 0 negative images\n",
      "class 6 has 73 positive and 0 negative images\n",
      "995 annotations found!\n",
      "stage:  train\n",
      "classes:  {'cappuccino': 206, 'chessboard': 240, 'coffee_maker': 284, 'cowboy_hat': 319, 'drumstick': 400, 'monkey': 699}\n",
      "ds_path:  ../Datasets/coco/\n",
      "labels_f:  ../Datasets/coco/annotations/lvis_v1_train.json\n",
      "imgs_dir:  ../Datasets/coco/images/train2017\n",
      "Time taken to initialize train set: 38.87226915359497\n"
     ]
    }
   ],
   "source": [
    "time_start = time.time()\n",
    "\n",
    "data_args = {'stage': 'train',\n",
    "            'classes': ['cowboy_hat', 'coffee_maker', 'monkey', 'cappuccino', 'drumstick', 'chessboard'], # ['drumstick'],#'sofa'], #, 'signboard'],\n",
    "            'ds_path' : \"../Datasets/coco/\",\n",
    "            'labels_dir': \"annotations\",\n",
    "            'images_dir': 'images',\n",
    "             'height' : 480,\n",
    "             'width' : 640,\n",
    "            'max_negative' : 0}\n",
    "train_data = dataset_lvis.LVISData(**data_args)\n",
    "\n",
    "print(f'Time taken to initialize train set: {time.time()-time_start}')"
   ]
  },
  {
   "cell_type": "markdown",
   "id": "7965951b-bfb1-48e8-8deb-c320b8d98b2f",
   "metadata": {},
   "source": [
    "### Split train set into custom train val set\n",
    "\n",
    "Validation set reserved for testing\n",
    "\n",
    "Check that we don't have too many of the rare cases in validation set - if so then there won't be much data to actually train on."
   ]
  },
  {
   "cell_type": "code",
   "execution_count": 7,
   "id": "ec426e15-a300-45cf-8d66-ee6dc4ffdd5e",
   "metadata": {},
   "outputs": [
    {
     "data": {
      "text/plain": [
       "{1: 6, 2: 1, 3: 26, 4: 14, 5: 0, 6: 12}"
      ]
     },
     "execution_count": 7,
     "metadata": {},
     "output_type": "execute_result"
    }
   ],
   "source": [
    "# what images have what classes?\n",
    "g_cpu = torch.Generator()\n",
    "g_cpu.manual_seed(2)\n",
    "\n",
    "#Split dataset to test and train\n",
    "indices = torch.randperm(len(train_data), generator=g_cpu).tolist()\n",
    "\n",
    "\n",
    "dataset_train = torch.utils.data.Subset(train_data, indices[:550])\n",
    "dataset_val = torch.utils.data.Subset(train_data, indices[550:])\n",
    "\n",
    "\n",
    "class_counts = dict(zip(range(1,7), [0]*6))\n",
    "for _, _, y in dataset_val:\n",
    "    for label in y['labels']:\n",
    "        class_counts[label.item()] += 1\n",
    "            \n",
    "class_counts"
   ]
  },
  {
   "cell_type": "markdown",
   "id": "5aed89f8-a249-4680-bc8a-e39015c2c63d",
   "metadata": {},
   "source": [
    "## Prepare test set\n",
    "\n",
    "The LVIS validation set is reserved for our test set"
   ]
  },
  {
   "cell_type": "code",
   "execution_count": 8,
   "id": "754ea837-6704-449b-a0b3-c5768d1b453f",
   "metadata": {},
   "outputs": [
    {
     "name": "stdout",
     "output_type": "stream",
     "text": [
      "classes : {1: 'cappuccino', 2: 'chessboard', 3: 'coffee_maker', 4: 'cowboy_hat', 5: 'drumstick', 6: 'monkey'}\n",
      "loaded 119 positive set images\n",
      "loaded 1003 negative set images\n",
      "loaded 2 non-exhaustive set images\n",
      "Loaded 1116 images!\n",
      "class 1 has 17 positive and 189 negative images\n",
      "class 2 has 1 positive and 186 negative images\n",
      "class 3 has 46 positive and 172 negative images\n",
      "class 4 has 39 positive and 188 negative images\n",
      "class 5 has 2 positive and 111 negative images\n",
      "class 6 has 12 positive and 182 negative images\n",
      "166 annotations found!\n",
      "stage:  val\n",
      "classes:  {'cappuccino': 206, 'chessboard': 240, 'coffee_maker': 284, 'cowboy_hat': 319, 'drumstick': 400, 'monkey': 699}\n",
      "ds_path:  ../Datasets/coco/\n",
      "labels_f:  ../Datasets/coco/annotations/lvis_v1_val.json\n",
      "imgs_dir:  ../Datasets/coco/images/train2017\n",
      "Time taken to initialize val set: 4.194173812866211\n"
     ]
    }
   ],
   "source": [
    "time_start = time.time() \n",
    "data_args = {'stage': 'val',\n",
    "            'classes': ['cowboy_hat', 'coffee_maker', 'monkey', 'cappuccino', 'drumstick', 'chessboard'], #['drumstick'],#'sofa'], #, 'signboard'],\n",
    "            'ds_path' : \"../Datasets/coco/\",\n",
    "            'labels_dir': \"annotations\",\n",
    "            'images_dir': 'images',\n",
    "             'height' : 480,\n",
    "             'width' : 640,\n",
    "            'max_negative' : 200}   # note that we include negative sets for the testing\n",
    "val_data = dataset_lvis.LVISData(**data_args)\n",
    "print(f'Time taken to initialize val set: {time.time()-time_start}')"
   ]
  },
  {
   "cell_type": "markdown",
   "id": "cf5210fb-ba67-46c9-a72d-2f93d89e672f",
   "metadata": {},
   "source": [
    "# Fine-tuning the model\n",
    "\n",
    "Here we set `pretrained = True` for the FPN: FPN is pre-trained on coco dataset. We keep the backbone ResNet50 pretrained on ImageNet."
   ]
  },
  {
   "cell_type": "code",
   "execution_count": 9,
   "id": "dc402d35-ad82-4540-a29a-ed74706f7bc4",
   "metadata": {},
   "outputs": [],
   "source": [
    "      \n",
    "def get_instance_segmentation_model(num_classes):\n",
    "    # load an instance segmentation model pre-trained on COCO\n",
    "    model = torchvision.models.detection.maskrcnn_resnet50_fpn(pretrained=True)\n",
    "\n",
    "    # get the number of input features for the classifier\n",
    "    in_features = model.roi_heads.box_predictor.cls_score.in_features\n",
    "    # replace the pre-trained head with a new one\n",
    "    model.roi_heads.box_predictor = FastRCNNPredictor(in_features, num_classes)\n",
    "\n",
    "    # now get the number of input features for the mask classifier\n",
    "    in_features_mask = model.roi_heads.mask_predictor.conv5_mask.in_channels\n",
    "    hidden_layer = 256\n",
    "    # and replace the mask predictor with a new one\n",
    "    model.roi_heads.mask_predictor = MaskRCNNPredictor(in_features_mask,\n",
    "                                                       hidden_layer,\n",
    "                                                       num_classes)\n",
    "\n",
    "    return model"
   ]
  },
  {
   "cell_type": "markdown",
   "id": "41364461-6867-4f49-aa53-177da9f90eb2",
   "metadata": {},
   "source": [
    "# Set up DataLoaders"
   ]
  },
  {
   "cell_type": "code",
   "execution_count": 10,
   "id": "8ff5ce4e-729b-49b4-a1e0-28d48fc9049f",
   "metadata": {},
   "outputs": [],
   "source": [
    "\n",
    "train_loader = torch.utils.data.DataLoader(\n",
    " dataset_train, batch_size=10, shuffle=True, #num_workers=4,\n",
    " collate_fn=helper.CollateCustom())\n",
    "\n",
    "val_loader = torch.utils.data.DataLoader(\n",
    " dataset_val, batch_size=10, shuffle=True, #num_workers=4,\n",
    " collate_fn=helper.CollateCustom())\n"
   ]
  },
  {
   "cell_type": "markdown",
   "id": "af324036-b825-4573-a784-343b9dbb3a47",
   "metadata": {},
   "source": [
    "# Initialize Model + Model params"
   ]
  },
  {
   "cell_type": "code",
   "execution_count": 11,
   "id": "d139c611-3d48-4c57-8147-9fa50f2bee2f",
   "metadata": {},
   "outputs": [],
   "source": [
    "device = torch.device('cuda') if torch.cuda.is_available() else torch.device('cpu')\n",
    "\n",
    "# our dataset has 7 classes - background and 6 specified objects\n",
    "num_classes = 7\n",
    "\n",
    "# get the model using our helper function\n",
    "model = get_instance_segmentation_model(num_classes)\n",
    "# move model to the right device\n",
    "model.to(device)\n",
    "\n",
    "# construct an optimizer\n",
    "params = [p for p in model.parameters() if p.requires_grad]\n",
    "optimizer = torch.optim.SGD(params, lr=0.005,\n",
    "                            momentum=0.9, weight_decay=0.0005)\n",
    "\n",
    "# and a learning rate scheduler which decreases the learning rate by\n",
    "# 10x every 3 epochs\n",
    "lr_scheduler = torch.optim.lr_scheduler.StepLR(optimizer, step_size=3, gamma=0.1)"
   ]
  },
  {
   "cell_type": "markdown",
   "id": "5d532151-671e-4846-aa83-34678660c4b7",
   "metadata": {},
   "source": [
    "# Train Model"
   ]
  },
  {
   "cell_type": "code",
   "execution_count": 18,
   "id": "e034c2c8-91f2-4546-84ea-b3f0085c75bd",
   "metadata": {},
   "outputs": [
    {
     "name": "stderr",
     "output_type": "stream",
     "text": [
      "/opt/conda/lib/python3.8/site-packages/torch/nn/functional.py:718: UserWarning: Named tensors and all their associated APIs are an experimental feature and subject to change. Please do not use them for anything important until they are released as stable. (Triggered internally at  ../c10/core/TensorImpl.h:1153.)\n",
      "  return torch.max_pool2d(input, kernel_size, stride, padding, dilation, ceil_mode)\n"
     ]
    },
    {
     "name": "stdout",
     "output_type": "stream",
     "text": [
      "Training loss after 0 epochs: 51.01726531982422\n",
      "Validation loss after 0 epochs: 2.693305104970932\n",
      "Time elapsed for 0 epochs: 87.0043613910675\n",
      "Saved checkpoint model_0_epochs.pth!\n",
      "Time elapsed after 0 epochs: 87.68007922172546\n",
      "Training loss after 1 epochs: 31.365565180778503\n",
      "Validation loss after 1 epochs: 2.378306269645691\n",
      "Time elapsed for 1 epochs: 174.0022566318512\n",
      "Training loss after 2 epochs: 23.822004228830338\n",
      "Validation loss after 2 epochs: 1.942654937505722\n",
      "Time elapsed for 2 epochs: 260.91075468063354\n",
      "Training loss after 3 epochs: 19.515691801905632\n",
      "Validation loss after 3 epochs: 2.4656268656253815\n",
      "Time elapsed for 3 epochs: 348.2497434616089\n",
      "Training loss after 4 epochs: 16.818720757961273\n",
      "Validation loss after 4 epochs: 2.001960054039955\n",
      "Time elapsed for 4 epochs: 435.8226613998413\n",
      "Training loss after 5 epochs: 14.870190009474754\n",
      "Validation loss after 5 epochs: 2.3661152720451355\n",
      "Time elapsed for 5 epochs: 523.5150303840637\n",
      "Saved checkpoint model_5_epochs.pth!\n",
      "Time elapsed after 5 epochs: 524.1803526878357\n",
      "Training loss after 6 epochs: 13.706823140382767\n",
      "Validation loss after 6 epochs: 2.4445671141147614\n",
      "Time elapsed for 6 epochs: 611.8798611164093\n",
      "Training loss after 7 epochs: 12.92463544011116\n",
      "Validation loss after 7 epochs: 2.26418337225914\n",
      "Time elapsed for 7 epochs: 699.7945077419281\n",
      "Training loss after 8 epochs: 12.469266429543495\n",
      "Validation loss after 8 epochs: 2.6107791662216187\n",
      "Time elapsed for 8 epochs: 787.6709589958191\n",
      "Training loss after 9 epochs: 11.72153852880001\n",
      "Validation loss after 9 epochs: 2.9228294491767883\n",
      "Time elapsed for 9 epochs: 875.5844569206238\n",
      "Training loss after 10 epochs: 11.124067582190037\n",
      "Validation loss after 10 epochs: 2.7591567635536194\n",
      "Time elapsed for 10 epochs: 963.4753360748291\n",
      "Saved checkpoint model_10_epochs.pth!\n",
      "Time elapsed after 10 epochs: 964.1409733295441\n",
      "Training loss after 11 epochs: 10.543203301727772\n",
      "Validation loss after 11 epochs: 2.6388523876667023\n",
      "Time elapsed for 11 epochs: 1052.0671644210815\n",
      "Training loss after 12 epochs: 10.279848463833332\n",
      "Validation loss after 12 epochs: 2.524839848279953\n",
      "Time elapsed for 12 epochs: 1139.9447002410889\n",
      "Training loss after 13 epochs: 10.150114834308624\n",
      "Validation loss after 13 epochs: 2.4179795682430267\n",
      "Time elapsed for 13 epochs: 1227.86226272583\n",
      "Training loss after 14 epochs: 9.875241808593273\n",
      "Validation loss after 14 epochs: 2.582158252596855\n",
      "Time elapsed for 14 epochs: 1315.6963486671448\n",
      "Training loss after 15 epochs: 9.617012672126293\n",
      "Validation loss after 15 epochs: 2.6451368629932404\n",
      "Time elapsed for 15 epochs: 1403.643503665924\n",
      "Saved checkpoint model_15_epochs.pth!\n",
      "Time elapsed after 15 epochs: 1404.3019931316376\n",
      "Training loss after 16 epochs: 9.434784278273582\n",
      "Validation loss after 16 epochs: 3.347427576780319\n",
      "Time elapsed for 16 epochs: 1492.1215229034424\n",
      "Training loss after 17 epochs: 9.294103845953941\n",
      "Validation loss after 17 epochs: 2.767163395881653\n",
      "Time elapsed for 17 epochs: 1580.0628907680511\n",
      "Training loss after 18 epochs: 8.904365964233875\n",
      "Validation loss after 18 epochs: 2.935288280248642\n",
      "Time elapsed for 18 epochs: 1667.9842064380646\n",
      "Training loss after 19 epochs: 8.731391109526157\n",
      "Validation loss after 19 epochs: 2.6045506596565247\n",
      "Time elapsed for 19 epochs: 1756.0390195846558\n",
      "Training loss after 20 epochs: 8.657137624919415\n",
      "Validation loss after 20 epochs: 2.6267441511154175\n",
      "Time elapsed for 20 epochs: 1843.9808359146118\n",
      "Saved checkpoint model_20_epochs.pth!\n",
      "Time elapsed after 20 epochs: 1844.6361575126648\n",
      "Training loss after 21 epochs: 8.429653063416481\n",
      "Validation loss after 21 epochs: 2.6170912235975266\n",
      "Time elapsed for 21 epochs: 1932.5730350017548\n",
      "Training loss after 22 epochs: 8.353096261620522\n",
      "Validation loss after 22 epochs: 2.679704010486603\n",
      "Time elapsed for 22 epochs: 2020.4916887283325\n",
      "Training loss after 23 epochs: 8.436328999698162\n",
      "Validation loss after 23 epochs: 2.6585635393857956\n",
      "Time elapsed for 23 epochs: 2108.3755881786346\n",
      "Training loss after 24 epochs: 8.453598223626614\n",
      "Validation loss after 24 epochs: 2.8302691876888275\n",
      "Time elapsed for 24 epochs: 2196.4862987995148\n",
      "Training loss after 25 epochs: 8.062671594321728\n",
      "Validation loss after 25 epochs: 3.302481949329376\n",
      "Time elapsed for 25 epochs: 2284.471673965454\n",
      "Saved checkpoint model_25_epochs.pth!\n",
      "Time elapsed after 25 epochs: 2285.129151582718\n",
      "Training loss after 26 epochs: 7.923550255596638\n",
      "Validation loss after 26 epochs: 2.8642700016498566\n",
      "Time elapsed for 26 epochs: 2373.06112742424\n",
      "Training loss after 27 epochs: 7.727024979889393\n",
      "Validation loss after 27 epochs: 2.686973661184311\n",
      "Time elapsed for 27 epochs: 2460.955888032913\n",
      "Training loss after 28 epochs: 7.760499402880669\n",
      "Validation loss after 28 epochs: 3.38665047287941\n",
      "Time elapsed for 28 epochs: 2548.76903796196\n",
      "Training loss after 29 epochs: 7.7682870849967\n",
      "Validation loss after 29 epochs: 2.653460830450058\n",
      "Time elapsed for 29 epochs: 2636.617078065872\n",
      "Training loss after 30 epochs: 7.86093033105135\n",
      "Validation loss after 30 epochs: 2.7724615037441254\n",
      "Time elapsed for 30 epochs: 2724.321619987488\n",
      "Saved checkpoint model_30_epochs.pth!\n",
      "Time elapsed after 30 epochs: 2724.931314945221\n",
      "Training loss after 31 epochs: 7.584185898303986\n",
      "Validation loss after 31 epochs: 2.7581759840250015\n",
      "Time elapsed for 31 epochs: 2812.607901573181\n",
      "Training loss after 32 epochs: 7.36771547794342\n",
      "Validation loss after 32 epochs: 3.035727798938751\n",
      "Time elapsed for 32 epochs: 2900.247584104538\n",
      "Training loss after 33 epochs: 7.263092912733555\n",
      "Validation loss after 33 epochs: 2.920176148414612\n",
      "Time elapsed for 33 epochs: 2987.9530851840973\n",
      "Training loss after 34 epochs: 7.269955895841122\n",
      "Validation loss after 34 epochs: 2.847003251314163\n",
      "Time elapsed for 34 epochs: 3075.877115726471\n",
      "Training loss after 35 epochs: 7.118985585868359\n",
      "Validation loss after 35 epochs: 3.1178302466869354\n",
      "Time elapsed for 35 epochs: 3163.622235059738\n",
      "Saved checkpoint model_35_epochs.pth!\n",
      "Time elapsed after 35 epochs: 3164.190037727356\n",
      "Training loss after 36 epochs: 6.978827126324177\n",
      "Validation loss after 36 epochs: 3.235169380903244\n",
      "Time elapsed for 36 epochs: 3251.943130493164\n",
      "Training loss after 37 epochs: 7.0898406356573105\n",
      "Validation loss after 37 epochs: 3.8219352662563324\n",
      "Time elapsed for 37 epochs: 3339.5814023017883\n",
      "Training loss after 38 epochs: 7.051589988172054\n",
      "Validation loss after 38 epochs: 3.1260094344615936\n",
      "Time elapsed for 38 epochs: 3427.2067155838013\n",
      "Training loss after 39 epochs: 7.050863832235336\n",
      "Validation loss after 39 epochs: 2.983880251646042\n",
      "Time elapsed for 39 epochs: 3514.8555545806885\n",
      "Training loss after 40 epochs: 6.992728531360626\n",
      "Validation loss after 40 epochs: 2.899212583899498\n",
      "Time elapsed for 40 epochs: 3602.3572494983673\n",
      "Saved checkpoint model_40_epochs.pth!\n",
      "Time elapsed after 40 epochs: 3602.870268344879\n",
      "Training loss after 41 epochs: 7.030453406274319\n",
      "Validation loss after 41 epochs: 3.0294618010520935\n",
      "Time elapsed for 41 epochs: 3690.477315425873\n",
      "Training loss after 42 epochs: 6.940565422177315\n",
      "Validation loss after 42 epochs: 3.394474744796753\n",
      "Time elapsed for 42 epochs: 3778.1143827438354\n",
      "Training loss after 43 epochs: 7.004157789051533\n",
      "Validation loss after 43 epochs: 3.3189600706100464\n",
      "Time elapsed for 43 epochs: 3865.67108130455\n",
      "Training loss after 44 epochs: 6.879004269838333\n",
      "Validation loss after 44 epochs: 3.5942321121692657\n",
      "Time elapsed for 44 epochs: 3953.358934879303\n",
      "Training loss after 45 epochs: 6.826054081320763\n",
      "Validation loss after 45 epochs: 3.7955029010772705\n",
      "Time elapsed for 45 epochs: 4041.0315704345703\n",
      "Saved checkpoint model_45_epochs.pth!\n",
      "Time elapsed after 45 epochs: 4041.5440974235535\n",
      "Training loss after 46 epochs: 6.7548491433262825\n",
      "Validation loss after 46 epochs: 3.0287713706493378\n",
      "Time elapsed for 46 epochs: 4129.118033885956\n",
      "Training loss after 47 epochs: 6.7075356394052505\n",
      "Validation loss after 47 epochs: 2.864504411816597\n",
      "Time elapsed for 47 epochs: 4216.665150165558\n",
      "Training loss after 48 epochs: 6.592159152030945\n",
      "Validation loss after 48 epochs: 2.97886461019516\n",
      "Time elapsed for 48 epochs: 4304.321527004242\n",
      "Training loss after 49 epochs: 6.410743892192841\n",
      "Validation loss after 49 epochs: 2.9172419011592865\n",
      "Time elapsed for 49 epochs: 4391.906578063965\n",
      "Saved model model.pth!\n",
      "Time elapsed for 50 epochs: 73.2 min\n"
     ]
    }
   ],
   "source": [
    "num_epochs = 50\n",
    "time_start = time.time() \n",
    "\n",
    "\n",
    "train_loss_df = pd.DataFrame(columns = ['epoch', 'loss_classifier', 'loss_box_reg', 'loss_mask', 'loss_objectness', 'loss_rpn_box_reg', 'total_loss'])\n",
    "val_loss_df = pd.DataFrame(columns = ['epoch', 'loss_classifier', 'loss_box_reg', 'loss_mask', 'loss_objectness', 'loss_rpn_box_reg', 'total_loss'])\n",
    "\n",
    "loss_types = ['loss_classifier', 'loss_box_reg', 'loss_mask', 'loss_objectness', 'loss_rpn_box_reg', 'total_loss']\n",
    "\n",
    "\n",
    "for epoch in range(num_epochs):\n",
    "    model.train()\n",
    "    \n",
    "    train_loss = dict.fromkeys(loss_types, 0) \n",
    "    val_loss = dict.fromkeys(loss_types, 0) \n",
    "    \n",
    "    \"\"\"\n",
    "    Train \n",
    "    \"\"\"\n",
    "    for batch_num, (idx, X, y) in enumerate(train_loader):\n",
    "        #print(idx)\n",
    "        X = X.to(device)\n",
    "        y = [{k: v.to(device) for k, v in t.items()} for t in y]\n",
    "        \n",
    "        loss_dict = model(X, y) \n",
    "        \n",
    "        losses = sum(loss for loss in loss_dict.values())\n",
    "        \n",
    "        #save losses\n",
    "        for key in loss_types:\n",
    "            if key != 'total_loss':\n",
    "                train_loss[key] += loss_dict[key].item()\n",
    "            else: \n",
    "                train_loss['total_loss'] += losses.item()\n",
    "                \n",
    "\n",
    "        optimizer.zero_grad()\n",
    "        losses.backward()\n",
    "        optimizer.step()\n",
    "        \n",
    "    row = pd.DataFrame({'epoch': [epoch],\n",
    "          'loss_classifier': [train_loss['loss_classifier']/(batch_num+1)],\n",
    "          'loss_box_reg' : [train_loss['loss_box_reg']/(batch_num+1)],\n",
    "           'loss_mask': [train_loss['loss_mask']/(batch_num+1)],\n",
    "           'loss_objectness': [train_loss['loss_objectness']/(batch_num+1)],\n",
    "           'loss_rpn_box_reg': [train_loss['loss_rpn_box_reg']/(batch_num+1)],\n",
    "            'total_loss': [train_loss['total_loss']/(batch_num+1)] \n",
    "          })     \n",
    "\n",
    "    train_loss_df = pd.concat([train_loss_df, row], ignore_index = True, axis = 0)\n",
    "    \n",
    "    print(f\"Training loss after {epoch} epochs: {train_loss['total_loss']}\")\n",
    "\n",
    "    \n",
    "    \"\"\"\n",
    "    Validation\n",
    "    \"\"\"\n",
    "    with torch.no_grad():\n",
    "        for batch_num, (idx, X, y) in enumerate(val_loader):\n",
    "            X = X.to(device)\n",
    "            y = [{k: v.to(device) for k, v in t.items()} for t in y]\n",
    "\n",
    "            loss_dict = model(X, y) \n",
    "            \n",
    "            losses_val = sum(loss for loss in loss_dict.values())\n",
    "            \n",
    "            #save losses\n",
    "            for key in loss_types:\n",
    "                if key != 'total_loss':\n",
    "                    val_loss[key] += loss_dict[key].item()\n",
    "                else: \n",
    "                    val_loss['total_loss'] += losses_val.item()\n",
    "                    \n",
    "        row = pd.DataFrame({'epoch': [epoch],\n",
    "                          'loss_classifier': [val_loss['loss_classifier']/(batch_num+1)],\n",
    "                          'loss_box_reg' : [val_loss['loss_box_reg']/(batch_num+1)],\n",
    "                           'loss_mask': [val_loss['loss_mask']/(batch_num+1)],\n",
    "                           'loss_objectness': [val_loss['loss_objectness']/(batch_num+1)],\n",
    "                           'loss_rpn_box_reg': [val_loss['loss_rpn_box_reg']/(batch_num+1)],\n",
    "                            'total_loss': [val_loss['total_loss']/(batch_num+1)] \n",
    "                          })\n",
    "        val_loss_df = pd.concat([val_loss_df, row], ignore_index = True, axis = 0)\n",
    "\n",
    "    print(f\"Validation loss after {epoch} epochs: {val_loss['total_loss']}\") \n",
    "    print(f'Time elapsed for {epoch} epochs: {time.time()-time_start}') \n",
    "\n",
    "      \n",
    "    \"\"\"\n",
    "    Save checkpoints and losses every 5 epoch\n",
    "    \"\"\"\n",
    "    if epoch%5 == 0: \n",
    "        checkpoint = {\"state_dict\": model.state_dict(),\n",
    "                        \"optimizer\": optimizer.state_dict(),\n",
    "                        \"step\": epoch,\n",
    "                        \"ds_args\" : data_args\n",
    "                        }\n",
    "        fname = \"model_\" + str(epoch) + \"_epochs.pth\"\n",
    "        helper.save_checkpoint(checkpoint, fname)\n",
    "        print(f'Time elapsed after {epoch} epochs: {time.time()-time_start}')  \n",
    "        val_loss_df.to_csv(Path.cwd().parent.joinpath(\"val_loss.csv\"))\n",
    "        train_loss_df.to_csv(Path.cwd().parent.joinpath(\"train_loss.csv\"))\n",
    "\n",
    "    \n",
    "    \n",
    "    #for final epoch \n",
    "    if epoch == num_epochs-1: \n",
    "        helper.save_model(model.state_dict(), \"model.pth\")\n",
    "        val_loss_df.to_csv(Path.cwd().parent.joinpath(\"val_loss.csv\"))\n",
    "        train_loss_df.to_csv(Path.cwd().parent.joinpath(\"train_loss.csv\"))\n",
    "    \n",
    "    \n",
    "    \n",
    "print(f\"Time elapsed for {epoch+1} epochs: {round((time.time()-time_start)/60, 2)} min\")"
   ]
  },
  {
   "cell_type": "markdown",
   "id": "d84a9cfa-912a-4885-962c-7f7dc807ccde",
   "metadata": {},
   "source": [
    "# Plot loss "
   ]
  },
  {
   "cell_type": "code",
   "execution_count": 21,
   "id": "96f98a05-d7e5-422a-a34e-6f2a9dece363",
   "metadata": {},
   "outputs": [
    {
     "data": {
      "text/plain": [
       "<AxesSubplot:>"
      ]
     },
     "execution_count": 21,
     "metadata": {},
     "output_type": "execute_result"
    },
    {
     "data": {
      "image/png": "[encoded data removed]",
      "text/plain": [
       "<Figure size 432x288 with 1 Axes>"
      ]
     },
     "metadata": {
      "needs_background": "light"
     },
     "output_type": "display_data"
    }
   ],
   "source": [
    "new_df = pd.DataFrame() \n",
    "#new_df['epoch'] = train_loss_df['epoch'] \n",
    "new_df['train_loss'] = train_loss_df['total_loss'] \n",
    "new_df['val_loss'] = val_loss_df['total_loss'] \n",
    "\n",
    "sns.lineplot(data = new_df[1:])\n",
    "#new_df\n"
   ]
  },
  {
   "cell_type": "markdown",
   "id": "fef09e8e-7c71-4ef7-b36a-e4711d18cdd3",
   "metadata": {},
   "source": [
    "# Calculate mAP on train set\n"
   ]
  },
  {
   "cell_type": "code",
   "execution_count": 53,
   "id": "a26c9f59-547d-4005-97d4-ae5913053af7",
   "metadata": {},
   "outputs": [
    {
     "data": {
      "text/plain": [
       "<module 'src.metrics' from '/home/INM705/INM705_CW_Collins_Velagala/notebooks/../src/metrics.py'>"
      ]
     },
     "execution_count": 53,
     "metadata": {},
     "output_type": "execute_result"
    }
   ],
   "source": [
    "importlib.reload(metrics)"
   ]
  },
  {
   "cell_type": "code",
   "execution_count": 54,
   "id": "89b2e581-a854-41ec-93c3-7e8c2a7cc3e7",
   "metadata": {},
   "outputs": [
    {
     "name": "stdout",
     "output_type": "stream",
     "text": [
      "Loaded from model model.pth!\n"
     ]
    }
   ],
   "source": [
    "num_classes = 7\n",
    "\n",
    "#model setup \n",
    "model = get_instance_segmentation_model(num_classes)\n",
    "model.to(device)\n",
    "\n",
    "helper.load_model(model, 'model.pth')\n"
   ]
  },
  {
   "cell_type": "code",
   "execution_count": 55,
   "id": "64f7779d-01a7-47e8-b48e-1edf6a713bda",
   "metadata": {},
   "outputs": [],
   "source": [
    "train_loader = torch.utils.data.DataLoader(\n",
    " dataset_train, batch_size=1, shuffle=True, #num_workers=4,\n",
    " collate_fn=helper.CollateCustom())"
   ]
  },
  {
   "cell_type": "code",
   "execution_count": 56,
   "id": "3ab21fbb-26e5-473e-b353-487a7608b772",
   "metadata": {},
   "outputs": [],
   "source": [
    "#mAP but not calculated as per fed set since there's no negative set \n",
    "pred_boxes =[]\n",
    "gt =[] \n",
    "\n",
    "for idx,X, y in train_loader:\n",
    "    model.eval()\n",
    "    y_pred = model(X.to(device)) \n",
    "    pred_boxes, gt = metrics.store_preds(idx, y, y_pred, pred_boxes, gt)"
   ]
  },
  {
   "cell_type": "code",
   "execution_count": 57,
   "id": "e3305c2a-52e0-46f5-8a39-73e59abb060f",
   "metadata": {},
   "outputs": [],
   "source": [
    "mAP_list = [] \n",
    "ap_list = []\n",
    "\n",
    "thresholds= np.arange(0.5, 1, 0.05) #0.5 -0.95\n",
    "for iou_thres in thresholds:\n",
    "    mAP, AP = metrics.calculate_ap(pred_boxes, gt, iou_threshold = iou_thres,\n",
    "                                         num_classes = len(val_data.class_idx_map))\n",
    "    mAP_list.append(mAP) \n",
    "    ap_list.append(AP)"
   ]
  },
  {
   "cell_type": "code",
   "execution_count": 58,
   "id": "de6f09a0-42d1-414c-9370-32941edb0a4b",
   "metadata": {},
   "outputs": [
    {
     "name": "stdout",
     "output_type": "stream",
     "text": [
      "{1: 'cappuccino', 2: 'chessboard', 3: 'coffee_maker', 4: 'cowboy_hat', 5: 'drumstick', 6: 'monkey'}\n"
     ]
    }
   ],
   "source": [
    "class_names = {} \n",
    "for key, val in train_data.class_idx_map.items() :\n",
    "    for k, v in train_data.classes.items():\n",
    "        if key == v:\n",
    "            class_names[val] = k\n",
    "print(class_names)\n",
    "    "
   ]
  },
  {
   "cell_type": "markdown",
   "id": "3b1119fc-575c-4bf8-89a9-fbfe3244f2ba",
   "metadata": {},
   "source": [
    "## Average Precision"
   ]
  },
  {
   "cell_type": "code",
   "execution_count": 60,
   "id": "eb79b8ff-7f48-4a76-8427-d501b5f4bf22",
   "metadata": {},
   "outputs": [
    {
     "data": {
      "text/plain": [
       "[Text(0.5, 1.0, 'Average Precision by IOU Threshold (train)')]"
      ]
     },
     "execution_count": 60,
     "metadata": {},
     "output_type": "execute_result"
    },
    {
     "data": {
      "image/png": "[encoded data removed]",
      "text/plain": [
       "<Figure size 432x288 with 1 Axes>"
      ]
     },
     "metadata": {
      "needs_background": "light"
     },
     "output_type": "display_data"
    }
   ],
   "source": [
    "df_AP = pd.DataFrame(columns = [\"iou_thres\", \"class_name\", \"AP\"])\n",
    "\n",
    "for idx, class_aps in enumerate(ap_list):\n",
    "    iou_thres = thresholds[idx]\n",
    "    for key, val in class_aps.items():\n",
    "        class_name = class_names[key] \n",
    "\n",
    "        row = pd.DataFrame({\"iou_thres\": [iou_thres],\n",
    "               \"class_name\": [class_name],\n",
    "               \"AP\": [val.item()]\n",
    "              })\n",
    "        df_AP = pd.concat([df_AP, row], axis = 0, ignore_index = True)\n",
    "        \n",
    "df_AP.head()\n",
    "sns.lineplot(data= df_AP, x=\"iou_thres\", y=\"AP\", hue = \"class_name\").set(title=\"Average Precision by IOU Threshold (train)\")"
   ]
  },
  {
   "cell_type": "markdown",
   "id": "ccf7d4cf-afea-468a-a434-885e3f13ce84",
   "metadata": {},
   "source": [
    "## mean Average Precision "
   ]
  },
  {
   "cell_type": "code",
   "execution_count": 65,
   "id": "b0c15c09-dc2c-4757-9797-809df74afadd",
   "metadata": {},
   "outputs": [
    {
     "data": {
      "text/plain": [
       "[Text(0.5, 1.0, 'mAP (train)')]"
      ]
     },
     "execution_count": 65,
     "metadata": {},
     "output_type": "execute_result"
    },
    {
     "data": {
      "image/png": "[encoded data removed]",
      "text/plain": [
       "<Figure size 432x288 with 1 Axes>"
      ]
     },
     "metadata": {
      "needs_background": "light"
     },
     "output_type": "display_data"
    }
   ],
   "source": [
    "df_mAP = pd.DataFrame(columns = [\"iou_thres\", \"mAP\"])\n",
    "\n",
    "for idx, mAP in enumerate(mAP_list):\n",
    "    row = pd.DataFrame({\"iou_thres\":[thresholds[idx]],\n",
    "                        \"mAP\": [mAP_list[idx].item()]})\n",
    "    df_mAP = pd.concat([df_mAP, row], axis = 0, ignore_index = True) \n",
    "    \n",
    "#df_mAP    \n",
    "    \n",
    "sns.lineplot(data = df_mAP, x =\"iou_thres\", y=\"mAP\").set(title = \"mAP (train)\")"
   ]
  },
  {
   "cell_type": "markdown",
   "id": "60d71502-8b3b-4d2c-9aeb-37efd5c2414e",
   "metadata": {},
   "source": [
    "# Calculate mAP on test set"
   ]
  },
  {
   "cell_type": "code",
   "execution_count": 66,
   "id": "504f818c-4017-472b-83ef-49c09067d622",
   "metadata": {},
   "outputs": [],
   "source": [
    "test_loader = torch.utils.data.DataLoader(\n",
    " val_data, batch_size=1, shuffle=True, #num_workers=4,\n",
    " collate_fn=helper.CollateCustom())\n"
   ]
  },
  {
   "cell_type": "code",
   "execution_count": 67,
   "id": "49cfaca4-1cd8-4189-bea6-512a2cf7e834",
   "metadata": {},
   "outputs": [],
   "source": [
    "pred_boxes =[]\n",
    "gt =[] \n",
    "\n",
    "for idx,X, y in test_loader:\n",
    "    model.eval()\n",
    "    y_pred = model(X.to(device)) \n",
    "    pred_boxes, gt = metrics.store_preds(idx, y, y_pred, pred_boxes, gt)"
   ]
  },
  {
   "cell_type": "code",
   "execution_count": 69,
   "id": "c6116f24-8ab3-4546-9126-a23d4e476566",
   "metadata": {},
   "outputs": [],
   "source": [
    "mAP_list = [] \n",
    "ap_list = []\n",
    "\n",
    "thresholds= np.arange(0.5, 1, 0.05) #0.5 -0.95\n",
    "for iou_thres in thresholds:\n",
    "    mAP, AP = metrics.calculate_ap(pred_boxes, gt, iou_threshold = iou_thres,\n",
    "                                         num_classes = len(val_data.class_idx_map))\n",
    "    mAP_list.append(mAP) \n",
    "    ap_list.append(AP)"
   ]
  },
  {
   "cell_type": "code",
   "execution_count": 70,
   "id": "293e55ff-9490-4366-a193-11fff2eb5133",
   "metadata": {},
   "outputs": [
    {
     "name": "stdout",
     "output_type": "stream",
     "text": [
      "{1: 'cappuccino', 2: 'chessboard', 3: 'coffee_maker', 4: 'cowboy_hat', 5: 'drumstick', 6: 'monkey'}\n"
     ]
    }
   ],
   "source": [
    "class_names = {} \n",
    "for key, val in val_data.class_idx_map.items() :\n",
    "    for k, v in val_data.classes.items():\n",
    "        if key == v:\n",
    "            class_names[val] = k\n",
    "print(class_names)\n",
    "    "
   ]
  },
  {
   "cell_type": "markdown",
   "id": "5f738c5d-4edc-4b0f-86dd-80acb1f2e6be",
   "metadata": {},
   "source": [
    "## calculate AP on train set"
   ]
  },
  {
   "cell_type": "code",
   "execution_count": 84,
   "id": "89348d29-eb17-41a6-b4e3-0a0fe708afd5",
   "metadata": {},
   "outputs": [
    {
     "data": {
      "text/plain": [
       "[Text(0.5, 1.0, 'Average Precision by IOU Threshold')]"
      ]
     },
     "execution_count": 84,
     "metadata": {},
     "output_type": "execute_result"
    },
    {
     "data": {
      "image/png": "[encoded data removed]",
      "text/plain": [
       "<Figure size 432x288 with 1 Axes>"
      ]
     },
     "metadata": {
      "needs_background": "light"
     },
     "output_type": "display_data"
    }
   ],
   "source": [
    "df_AP = pd.DataFrame(columns = [\"iou_thres\", \"class_name\", \"AP\"])\n",
    "\n",
    "for idx, class_aps in enumerate(ap_list):\n",
    "    iou_thres = thresholds[idx]\n",
    "    for key, val in class_aps.items():\n",
    "        class_name = class_names[key] \n",
    "\n",
    "        row = pd.DataFrame({\"iou_thres\": [iou_thres],\n",
    "               \"class_name\": [class_name],\n",
    "               \"AP\": [val.item()]\n",
    "              })\n",
    "        df_AP = pd.concat([df_AP, row], axis = 0, ignore_index = True)\n",
    "        \n",
    "df_AP.head()\n",
    "sns.lineplot(data= df_AP, x=\"iou_thres\", y=\"AP\", hue = \"class_name\").set(title=\"Average Precision by IOU Threshold\")"
   ]
  },
  {
   "cell_type": "code",
   "execution_count": 83,
   "id": "24fca44d-6bf5-4634-9df9-34c48ada5969",
   "metadata": {},
   "outputs": [
    {
     "data": {
      "text/plain": [
       "[Text(0.5, 1.0, 'Average Precision by IOU Threshold')]"
      ]
     },
     "execution_count": 83,
     "metadata": {},
     "output_type": "execute_result"
    },
    {
     "data": {
      "image/png": "[encoded data removed]",
      "text/plain": [
       "<Figure size 432x288 with 1 Axes>"
      ]
     },
     "metadata": {
      "needs_background": "light"
     },
     "output_type": "display_data"
    }
   ],
   "source": [
    "class_frequency_dict = {'cappuccino': 'common', 'chessboard': 'rare',  'coffee_maker':'frequent', \n",
    "                        'cowboy_hat':'frequent', 'drumstick':'rare', 'monkey':'common'}\n",
    "\n",
    "df_AP_freq = df_AP\n",
    "df_AP_freq['class_frequency'] = df_AP_freq['class_name'].map(class_frequency_dict)\n",
    "temp = df_AP_freq.groupby(by= [\"iou_thres\", \"class_frequency\"])['AP'].mean().reset_index()\n",
    "sns.lineplot(data= temp, x=\"iou_thres\", y=\"AP\", hue = \"class_frequency\").set(title=\"Average Precision by IOU Threshold\")"
   ]
  },
  {
   "cell_type": "markdown",
   "id": "68915007-aa38-4b80-a338-a712eaccc561",
   "metadata": {},
   "source": [
    "## calculate mAP on train set"
   ]
  },
  {
   "cell_type": "code",
   "execution_count": 74,
   "id": "64110384-4c73-4ea3-8238-6137709df8f6",
   "metadata": {},
   "outputs": [
    {
     "data": {
      "text/plain": [
       "[Text(0.5, 1.0, 'mAP (test)')]"
      ]
     },
     "execution_count": 74,
     "metadata": {},
     "output_type": "execute_result"
    },
    {
     "data": {
      "image/png": "[encoded data removed]",
      "text/plain": [
       "<Figure size 432x288 with 1 Axes>"
      ]
     },
     "metadata": {
      "needs_background": "light"
     },
     "output_type": "display_data"
    }
   ],
   "source": [
    "df_mAP = pd.DataFrame(columns = [\"iou_thres\", \"mAP\"])\n",
    "\n",
    "for idx, mAP in enumerate(mAP_list):\n",
    "    row = pd.DataFrame({\"iou_thres\":[thresholds[idx]],\n",
    "                        \"mAP\": [mAP_list[idx].item()]})\n",
    "    df_mAP = pd.concat([df_mAP, row], axis = 0, ignore_index = True) \n",
    "    \n",
    "#df_mAP    \n",
    "    \n",
    "sns.lineplot(data = df_mAP, x =\"iou_thres\", y=\"mAP\").set(title = \"mAP (test)\")"
   ]
  },
  {
   "cell_type": "code",
   "execution_count": null,
   "id": "822285a8-d3d7-4e9b-8d53-270cc19f3054",
   "metadata": {},
   "outputs": [],
   "source": [
    "for idx,X, y in test_loader:\n"
   ]
  }
 ],
 "metadata": {
  "kernelspec": {
   "display_name": "Python 3",
   "language": "python",
   "name": "python3"
  },
  "language_info": {
   "codemirror_mode": {
    "name": "ipython",
    "version": 3
   },
   "file_extension": ".py",
   "mimetype": "text/x-python",
   "name": "python",
   "nbconvert_exporter": "python",
   "pygments_lexer": "ipython3",
   "version": "3.8.10"
  }
 },
 "nbformat": 4,
 "nbformat_minor": 5
}
