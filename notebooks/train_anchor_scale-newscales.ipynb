{
 "cells": [
  {
   "cell_type": "code",
   "execution_count": 1,
   "id": "8110a508-5c22-443e-8c2d-1f2785961a11",
   "metadata": {},
   "outputs": [],
   "source": [
    "import sys \n",
    "sys.path.append('../')"
   ]
  },
  {
   "cell_type": "code",
   "execution_count": 3,
   "id": "dc16b26c-4d09-4f3e-9f19-dcb81493fcd6",
   "metadata": {
    "tags": []
   },
   "outputs": [],
   "source": [
    "import os\n",
    "import torch\n",
    "from PIL import Image\n",
    "import pandas as pd \n",
    "import sys \n",
    "import json \n",
    "from src import dataset_lvis\n",
    "from src import metrics\n",
    "from src import helper_functions as helper\n",
    "import importlib\n",
    "from pathlib import Path \n",
    "from PIL import Image as PILImage\n",
    "import numpy as np\n",
    "import matplotlib.pyplot as plt\n",
    "from torch.optim.lr_scheduler import StepLR\n",
    "import pandas as pd \n",
    "import time \n",
    "import torchvision\n",
    "from torchvision.models.detection.faster_rcnn import FastRCNNPredictor\n",
    "from torchvision.models.detection.mask_rcnn import MaskRCNNPredictor\n",
    "from torchvision.models.detection.rpn import AnchorGenerator\n",
    "from torchvision.models.detection import MaskRCNN\n",
    "import torchvision.models.detection.backbone_utils #import _resnet_fpn_extractor\n",
    "import torch.nn as nn\n",
    "\n",
    "import matplotlib.pyplot as plt \n",
    "import seaborn as sns \n",
    "sns.set()"
   ]
  },
  {
   "cell_type": "code",
   "execution_count": 4,
   "id": "713acfd1-c1cf-44fa-b17f-bb640870fab9",
   "metadata": {},
   "outputs": [
    {
     "data": {
      "text/plain": [
       "<module 'src.dataset_lvis' from '/home/INM705/INM705_CW_Collins_Velagala/notebooks/../src/dataset_lvis.py'>"
      ]
     },
     "execution_count": 4,
     "metadata": {},
     "output_type": "execute_result"
    }
   ],
   "source": [
    "importlib.reload(dataset_lvis)"
   ]
  },
  {
   "cell_type": "code",
   "execution_count": 5,
   "id": "97408296-2f70-4eaa-8243-c5fdb4345c5a",
   "metadata": {},
   "outputs": [
    {
     "data": {
      "text/plain": [
       "device(type='cuda')"
      ]
     },
     "execution_count": 5,
     "metadata": {},
     "output_type": "execute_result"
    }
   ],
   "source": [
    "device = torch.device(\"cuda\" if torch.cuda.is_available() else \"cpu\")\n",
    "device"
   ]
  },
  {
   "cell_type": "markdown",
   "id": "422fa061-629f-46cb-b3df-99a9c7afbcde",
   "metadata": {},
   "source": [
    "# Load train and validation data "
   ]
  },
  {
   "cell_type": "markdown",
   "id": "2d8d49f5-728e-4e94-b2a9-b612e88a05e3",
   "metadata": {},
   "source": [
    "grape - f\n",
    "crump - f\n",
    "pea_(food) - c\n",
    "peach - c\n",
    "apricot - r\n",
    "crouton - r"
   ]
  },
  {
   "cell_type": "code",
   "execution_count": 6,
   "id": "39685c2e-8366-47b5-9e5b-6b40e2d8c012",
   "metadata": {},
   "outputs": [
    {
     "name": "stdout",
     "output_type": "stream",
     "text": [
      "classes : {1: 'apricot', 2: 'crouton', 3: 'crumb', 4: 'grape', 5: 'pea_(food)', 6: 'peach'}\n",
      "loaded 628 positive set images\n",
      "loaded 0 negative set images\n",
      "loaded 341 non-exhaustive set images\n",
      "Loaded 287 images!\n",
      "class 1 has 10 positive and 0 negative images\n",
      "class 2 has 7 positive and 0 negative images\n",
      "class 3 has 101 positive and 0 negative images\n",
      "class 4 has 101 positive and 0 negative images\n",
      "class 5 has 31 positive and 0 negative images\n",
      "class 6 has 47 positive and 0 negative images\n",
      "3283 annotations found!\n",
      "stage:  train\n",
      "classes:  {'apricot': 14, 'crouton': 331, 'crumb': 338, 'grape': 510, 'pea_(food)': 773, 'peach': 774}\n",
      "ds_path:  ../Datasets/coco/\n",
      "labels_f:  ../Datasets/coco/annotations/lvis_v1_train.json\n",
      "imgs_dir:  ../Datasets/coco/images/train2017\n",
      "Time taken to initialize train set: 31.746514797210693\n"
     ]
    }
   ],
   "source": [
    "time_start = time.time()\n",
    "\n",
    "data_args = {'stage': 'train',\n",
    "            'classes': ['grape', 'crumb', 'pea_(food)', 'peach', 'apricot', 'crouton'],\n",
    "             #['cowboy_hat', 'coffee_maker', 'monkey', 'cappuccino', 'drumstick', 'chessboard'], # ['drumstick'],#'sofa'], #, 'signboard'],\n",
    "            'ds_path' : \"../Datasets/coco/\",\n",
    "            'labels_dir': \"annotations\",\n",
    "            'images_dir': 'images',\n",
    "             'height' : 480,\n",
    "             'width' : 640,\n",
    "            'max_negative' : 0}\n",
    "train_data = dataset_lvis.LVISData(**data_args)\n",
    "\n",
    "print(f'Time taken to initialize train set: {time.time()-time_start}')"
   ]
  },
  {
   "cell_type": "markdown",
   "id": "7965951b-bfb1-48e8-8deb-c320b8d98b2f",
   "metadata": {},
   "source": [
    "### Split train set into custom train val set\n",
    "\n",
    "Validation set reserved for testing\n",
    "\n",
    "Check that we don't have too many of the rare cases in validation set - if so then there won't be much data to actually train on."
   ]
  },
  {
   "cell_type": "code",
   "execution_count": 7,
   "id": "ec426e15-a300-45cf-8d66-ee6dc4ffdd5e",
   "metadata": {},
   "outputs": [
    {
     "data": {
      "text/plain": [
       "{1: 0, 2: 0, 3: 55, 4: 198, 5: 79, 6: 27}"
      ]
     },
     "execution_count": 7,
     "metadata": {},
     "output_type": "execute_result"
    }
   ],
   "source": [
    "# what images have what classes?\n",
    "g_cpu = torch.Generator()\n",
    "g_cpu.manual_seed(42)\n",
    "\n",
    "#Split dataset to test and train\n",
    "indices = torch.randperm(len(train_data), generator=g_cpu).tolist()\n",
    "\n",
    "\n",
    "dataset_train = torch.utils.data.Subset(train_data, indices[:260])\n",
    "dataset_val = torch.utils.data.Subset(train_data, indices[260:])\n",
    "\n",
    "\n",
    "class_counts = dict(zip(range(1,7), [0]*6))\n",
    "for _, _, y in dataset_val:\n",
    "    for label in y['labels']:\n",
    "        class_counts[label.item()] += 1\n",
    "            \n",
    "class_counts"
   ]
  },
  {
   "cell_type": "markdown",
   "id": "5aed89f8-a249-4680-bc8a-e39015c2c63d",
   "metadata": {},
   "source": [
    "## Prepare test set\n",
    "\n",
    "The LVIS validation set is reserved for our test set"
   ]
  },
  {
   "cell_type": "code",
   "execution_count": 8,
   "id": "754ea837-6704-449b-a0b3-c5768d1b453f",
   "metadata": {},
   "outputs": [
    {
     "name": "stdout",
     "output_type": "stream",
     "text": [
      "classes : {1: 'apricot', 2: 'crouton', 3: 'crumb', 4: 'grape', 5: 'pea_(food)', 6: 'peach'}\n",
      "loaded 117 positive set images\n",
      "loaded 887 negative set images\n",
      "loaded 59 non-exhaustive set images\n",
      "Loaded 942 images!\n",
      "class 1 has 0 positive and 119 negative images\n",
      "class 2 has 3 positive and 140 negative images\n",
      "class 3 has 18 positive and 124 negative images\n",
      "class 4 has 22 positive and 174 negative images\n",
      "class 5 has 7 positive and 181 negative images\n",
      "class 6 has 9 positive and 169 negative images\n",
      "791 annotations found!\n",
      "stage:  val\n",
      "classes:  {'apricot': 14, 'crouton': 331, 'crumb': 338, 'grape': 510, 'pea_(food)': 773, 'peach': 774}\n",
      "ds_path:  ../Datasets/coco/\n",
      "labels_f:  ../Datasets/coco/annotations/lvis_v1_val.json\n",
      "imgs_dir:  ../Datasets/coco/images/train2017\n",
      "Time taken to initialize val set: 3.6889147758483887\n"
     ]
    }
   ],
   "source": [
    "time_start = time.time() \n",
    "data_args = {'stage': 'val',\n",
    "            'classes':  ['grape', 'crumb', 'pea_(food)', 'peach', 'apricot', 'crouton'],\n",
    "            'ds_path' : \"../Datasets/coco/\",\n",
    "            'labels_dir': \"annotations\",\n",
    "            'images_dir': 'images',\n",
    "             'height' : 480,\n",
    "             'width' : 640,\n",
    "            'max_negative' : 200}   # note that we include negative sets for the testing\n",
    "val_data = dataset_lvis.LVISData(**data_args)\n",
    "print(f'Time taken to initialize val set: {time.time()-time_start}')"
   ]
  },
  {
   "cell_type": "markdown",
   "id": "cf5210fb-ba67-46c9-a72d-2f93d89e672f",
   "metadata": {},
   "source": [
    "# Fine-tuning the model\n",
    "\n",
    "Here we set `pretrained = True` for the FPN: FPN is pre-trained on coco dataset. We keep the backbone ResNet50 pretrained on ImageNet."
   ]
  },
  {
   "cell_type": "code",
   "execution_count": 10,
   "id": "ed773c6d-3902-44ff-b2f0-05ff0245ef83",
   "metadata": {},
   "outputs": [],
   "source": [
    "def get_instance_segmentation_model(num_classes):\n",
    "    # load an instance segmentation model pre-trained on COCO\n",
    "    anchor_generator = AnchorGenerator(sizes=((2,4,8,16,32,64),),\n",
    "                                   aspect_ratios=((0.5, 1.0, 2.0),))\n",
    "    \n",
    "    backbone = torchvision.models.resnet50(pretrained = True)\n",
    "    modules = list(backbone.children())[:-2]\n",
    "    backbone = nn.Sequential(*modules)\n",
    "    backbone.out_channels = 2048\n",
    "\n",
    "    \n",
    "    model = MaskRCNN(backbone,  num_classes=num_classes, rpn_anchor_generator=anchor_generator)\n",
    "    \n",
    "\n",
    "    return model"
   ]
  },
  {
   "cell_type": "markdown",
   "id": "41364461-6867-4f49-aa53-177da9f90eb2",
   "metadata": {},
   "source": [
    "# Set up DataLoaders"
   ]
  },
  {
   "cell_type": "code",
   "execution_count": 11,
   "id": "8ff5ce4e-729b-49b4-a1e0-28d48fc9049f",
   "metadata": {},
   "outputs": [],
   "source": [
    "\n",
    "train_loader = torch.utils.data.DataLoader(\n",
    " dataset_train, batch_size=5, shuffle=True, #num_workers=4,\n",
    " collate_fn=helper.CollateCustom())\n",
    "\n",
    "val_loader = torch.utils.data.DataLoader(\n",
    " dataset_val, batch_size=5, shuffle=True, #num_workers=4,\n",
    " collate_fn=helper.CollateCustom())\n"
   ]
  },
  {
   "cell_type": "markdown",
   "id": "af324036-b825-4573-a784-343b9dbb3a47",
   "metadata": {},
   "source": [
    "# Initialize Model + Model params"
   ]
  },
  {
   "cell_type": "code",
   "execution_count": 12,
   "id": "d139c611-3d48-4c57-8147-9fa50f2bee2f",
   "metadata": {},
   "outputs": [],
   "source": [
    "device = torch.device('cuda') if torch.cuda.is_available() else torch.device('cpu')\n",
    "\n",
    "# our dataset has 7 classes - background and 6 specified objects\n",
    "num_classes = 7\n",
    "\n",
    "# get the model using our helper function\n",
    "model = get_instance_segmentation_model(num_classes)\n",
    "# move model to the right device\n",
    "model.to(device)\n",
    "\n",
    "# construct an optimizer\n",
    "params = [p for p in model.parameters() if p.requires_grad]\n",
    "optimizer = torch.optim.SGD(params, lr=0.005,\n",
    "                            momentum=0.9, weight_decay=0.0005)\n",
    "\n",
    "# and a learning rate scheduler which decreases the learning rate by\n",
    "# 10x every 3 epochs\n",
    "lr_scheduler = torch.optim.lr_scheduler.StepLR(optimizer, step_size=3, gamma=0.1)"
   ]
  },
  {
   "cell_type": "markdown",
   "id": "5d532151-671e-4846-aa83-34678660c4b7",
   "metadata": {},
   "source": [
    "# Train Model"
   ]
  },
  {
   "cell_type": "code",
   "execution_count": 13,
   "id": "e034c2c8-91f2-4546-84ea-b3f0085c75bd",
   "metadata": {},
   "outputs": [
    {
     "name": "stderr",
     "output_type": "stream",
     "text": [
      "/opt/conda/lib/python3.8/site-packages/torch/nn/functional.py:718: UserWarning: Named tensors and all their associated APIs are an experimental feature and subject to change. Please do not use them for anything important until they are released as stable. (Triggered internally at  ../c10/core/TensorImpl.h:1153.)\n",
      "  return torch.max_pool2d(input, kernel_size, stride, padding, dilation, ceil_mode)\n"
     ]
    },
    {
     "name": "stdout",
     "output_type": "stream",
     "text": [
      "Training loss after 0 epochs: 80.18555963039398\n",
      "Validation loss after 0 epochs: 7.031113028526306\n",
      "Time elapsed for 0 epochs: 58.33443021774292\n",
      "Saved checkpoint model_0_epochs.pth!\n",
      "Time elapsed after 0 epochs: 60.978517055511475\n",
      "Training loss after 1 epochs: 55.97984820604324\n",
      "Validation loss after 1 epochs: 7.121787011623383\n",
      "Time elapsed for 1 epochs: 118.44824862480164\n",
      "Training loss after 2 epochs: 54.987227737903595\n",
      "Validation loss after 2 epochs: 6.979370653629303\n",
      "Time elapsed for 2 epochs: 177.2288806438446\n",
      "Training loss after 3 epochs: 52.83159041404724\n",
      "Validation loss after 3 epochs: 6.572754442691803\n",
      "Time elapsed for 3 epochs: 235.97737550735474\n",
      "Training loss after 4 epochs: 51.00894057750702\n",
      "Validation loss after 4 epochs: 6.041672587394714\n",
      "Time elapsed for 4 epochs: 294.89061188697815\n",
      "Training loss after 5 epochs: 49.70760375261307\n",
      "Validation loss after 5 epochs: 6.6617544293403625\n",
      "Time elapsed for 5 epochs: 354.34626817703247\n",
      "Saved checkpoint model_5_epochs.pth!\n",
      "Time elapsed after 5 epochs: 356.95361328125\n",
      "Training loss after 6 epochs: 48.93509018421173\n",
      "Validation loss after 6 epochs: 6.747817277908325\n",
      "Time elapsed for 6 epochs: 417.1769211292267\n",
      "Training loss after 7 epochs: 46.88336968421936\n",
      "Validation loss after 7 epochs: 7.079300701618195\n",
      "Time elapsed for 7 epochs: 477.44370460510254\n",
      "Training loss after 8 epochs: 45.78630393743515\n",
      "Validation loss after 8 epochs: 7.0156166553497314\n",
      "Time elapsed for 8 epochs: 538.2682144641876\n",
      "Training loss after 9 epochs: 46.02360242605209\n",
      "Validation loss after 9 epochs: 7.75541752576828\n",
      "Time elapsed for 9 epochs: 599.5913779735565\n",
      "Training loss after 10 epochs: 44.68663555383682\n",
      "Validation loss after 10 epochs: 7.004087746143341\n",
      "Time elapsed for 10 epochs: 659.6168220043182\n",
      "Saved checkpoint model_10_epochs.pth!\n",
      "Time elapsed after 10 epochs: 662.3235745429993\n",
      "Training loss after 11 epochs: 43.84737992286682\n",
      "Validation loss after 11 epochs: 7.054877996444702\n",
      "Time elapsed for 11 epochs: 723.0289032459259\n",
      "Training loss after 12 epochs: 42.088134825229645\n",
      "Validation loss after 12 epochs: 7.147376656532288\n",
      "Time elapsed for 12 epochs: 784.4690306186676\n",
      "Training loss after 13 epochs: 41.09305667877197\n",
      "Validation loss after 13 epochs: 7.488137662410736\n",
      "Time elapsed for 13 epochs: 845.6996908187866\n",
      "Training loss after 14 epochs: 41.5042619407177\n",
      "Validation loss after 14 epochs: 7.958102285861969\n",
      "Time elapsed for 14 epochs: 907.0785238742828\n",
      "Training loss after 15 epochs: 40.07351225614548\n",
      "Validation loss after 15 epochs: 7.147177875041962\n",
      "Time elapsed for 15 epochs: 968.2932543754578\n",
      "Saved checkpoint model_15_epochs.pth!\n",
      "Time elapsed after 15 epochs: 971.0004143714905\n",
      "Training loss after 16 epochs: 38.17084947228432\n",
      "Validation loss after 16 epochs: 7.298497140407562\n",
      "Time elapsed for 16 epochs: 1032.1465952396393\n",
      "Training loss after 17 epochs: 38.26109969615936\n",
      "Validation loss after 17 epochs: 7.672387361526489\n",
      "Time elapsed for 17 epochs: 1093.4229865074158\n",
      "Training loss after 18 epochs: 37.20498803257942\n",
      "Validation loss after 18 epochs: 8.287978053092957\n",
      "Time elapsed for 18 epochs: 1155.1397020816803\n",
      "Training loss after 19 epochs: 36.77642133831978\n",
      "Validation loss after 19 epochs: 7.441394805908203\n",
      "Time elapsed for 19 epochs: 1217.2975788116455\n",
      "Training loss after 20 epochs: 37.451454639434814\n",
      "Validation loss after 20 epochs: 7.513006329536438\n",
      "Time elapsed for 20 epochs: 1278.5921280384064\n",
      "Saved checkpoint model_20_epochs.pth!\n",
      "Time elapsed after 20 epochs: 1281.224988937378\n",
      "Training loss after 21 epochs: 35.45405361056328\n",
      "Validation loss after 21 epochs: 6.9783822894096375\n",
      "Time elapsed for 21 epochs: 1342.9326758384705\n",
      "Training loss after 22 epochs: 35.00310379266739\n",
      "Validation loss after 22 epochs: 7.739280164241791\n",
      "Time elapsed for 22 epochs: 1404.46146941185\n",
      "Training loss after 23 epochs: 34.216429859399796\n",
      "Validation loss after 23 epochs: 7.941290020942688\n",
      "Time elapsed for 23 epochs: 1465.683153629303\n",
      "Training loss after 24 epochs: 33.69817700982094\n",
      "Validation loss after 24 epochs: 7.75219339132309\n",
      "Time elapsed for 24 epochs: 1527.16148519516\n",
      "Training loss after 25 epochs: 33.33763352036476\n",
      "Validation loss after 25 epochs: 7.316342800855637\n",
      "Time elapsed for 25 epochs: 1588.50772356987\n",
      "Saved checkpoint model_25_epochs.pth!\n",
      "Time elapsed after 25 epochs: 1591.087438583374\n",
      "Training loss after 26 epochs: 32.81656235456467\n",
      "Validation loss after 26 epochs: 7.710858047008514\n",
      "Time elapsed for 26 epochs: 1652.0264809131622\n",
      "Training loss after 27 epochs: 32.18359211087227\n",
      "Validation loss after 27 epochs: 7.308473706245422\n",
      "Time elapsed for 27 epochs: 1713.5984241962433\n",
      "Training loss after 28 epochs: 31.98060232400894\n",
      "Validation loss after 28 epochs: 8.255298972129822\n",
      "Time elapsed for 28 epochs: 1775.4236993789673\n",
      "Training loss after 29 epochs: 31.28871715068817\n",
      "Validation loss after 29 epochs: 7.018857449293137\n",
      "Time elapsed for 29 epochs: 1837.4192695617676\n",
      "Training loss after 30 epochs: 30.621355921030045\n",
      "Validation loss after 30 epochs: 7.822011411190033\n",
      "Time elapsed for 30 epochs: 1899.1989510059357\n",
      "Saved checkpoint model_30_epochs.pth!\n",
      "Time elapsed after 30 epochs: 1901.844064950943\n",
      "Saved model model.pth!\n",
      "Time elapsed for 31 epochs: 31.72 min\n"
     ]
    }
   ],
   "source": [
    "num_epochs = 31\n",
    "time_start = time.time() \n",
    "\n",
    "\n",
    "train_loss_df = pd.DataFrame(columns = ['epoch', 'loss_classifier', 'loss_box_reg', 'loss_mask', 'loss_objectness', 'loss_rpn_box_reg', 'total_loss'])\n",
    "val_loss_df = pd.DataFrame(columns = ['epoch', 'loss_classifier', 'loss_box_reg', 'loss_mask', 'loss_objectness', 'loss_rpn_box_reg', 'total_loss'])\n",
    "\n",
    "loss_types = ['loss_classifier', 'loss_box_reg', 'loss_mask', 'loss_objectness', 'loss_rpn_box_reg', 'total_loss']\n",
    "\n",
    "\n",
    "for epoch in range(num_epochs):\n",
    "    model.train()\n",
    "    \n",
    "    train_loss = dict.fromkeys(loss_types, 0) \n",
    "    val_loss = dict.fromkeys(loss_types, 0) \n",
    "    \n",
    "    \"\"\"\n",
    "    Train \n",
    "    \"\"\"\n",
    "    for batch_num, (idx, X, y) in enumerate(train_loader):\n",
    "        #print(idx)\n",
    "        X = X.to(device)\n",
    "        y = [{k: v.to(device) for k, v in t.items()} for t in y]\n",
    "        \n",
    "        loss_dict = model(X, y) \n",
    "        \n",
    "        losses = sum(loss for loss in loss_dict.values())\n",
    "        \n",
    "        #save losses\n",
    "        for key in loss_types:\n",
    "            if key != 'total_loss':\n",
    "                train_loss[key] += loss_dict[key].item()\n",
    "            else: \n",
    "                train_loss['total_loss'] += losses.item()\n",
    "                \n",
    "\n",
    "        optimizer.zero_grad()\n",
    "        losses.backward()\n",
    "        optimizer.step()\n",
    "        \n",
    "    row = pd.DataFrame({'epoch': [epoch],\n",
    "          'loss_classifier': [train_loss['loss_classifier']/(batch_num+1)],\n",
    "          'loss_box_reg' : [train_loss['loss_box_reg']/(batch_num+1)],\n",
    "           'loss_mask': [train_loss['loss_mask']/(batch_num+1)],\n",
    "           'loss_objectness': [train_loss['loss_objectness']/(batch_num+1)],\n",
    "           'loss_rpn_box_reg': [train_loss['loss_rpn_box_reg']/(batch_num+1)],\n",
    "            'total_loss': [train_loss['total_loss']/(batch_num+1)] \n",
    "          })     \n",
    "\n",
    "    train_loss_df = pd.concat([train_loss_df, row], ignore_index = True, axis = 0)\n",
    "    \n",
    "    print(f\"Training loss after {epoch} epochs: {train_loss['total_loss']}\")\n",
    "\n",
    "    \n",
    "    \"\"\"\n",
    "    Validation\n",
    "    \"\"\"\n",
    "    with torch.no_grad():\n",
    "        for batch_num, (idx, X, y) in enumerate(val_loader):\n",
    "            #X = X.to(device)\n",
    "            X = list(image.to(device) for image in X)\n",
    "            y = [{k: v.to(device) for k, v in t.items()} for t in y]\n",
    "\n",
    "            loss_dict = model(X, y) \n",
    "            \n",
    "            losses_val = sum(loss for loss in loss_dict.values())\n",
    "            \n",
    "            #save losses\n",
    "            for key in loss_types:\n",
    "                if key != 'total_loss':\n",
    "                    val_loss[key] += loss_dict[key].item()\n",
    "                else: \n",
    "                    val_loss['total_loss'] += losses_val.item()\n",
    "                    \n",
    "        row = pd.DataFrame({'epoch': [epoch],\n",
    "                          'loss_classifier': [val_loss['loss_classifier']/(batch_num+1)],\n",
    "                          'loss_box_reg' : [val_loss['loss_box_reg']/(batch_num+1)],\n",
    "                           'loss_mask': [val_loss['loss_mask']/(batch_num+1)],\n",
    "                           'loss_objectness': [val_loss['loss_objectness']/(batch_num+1)],\n",
    "                           'loss_rpn_box_reg': [val_loss['loss_rpn_box_reg']/(batch_num+1)],\n",
    "                            'total_loss': [val_loss['total_loss']/(batch_num+1)] \n",
    "                          })\n",
    "        val_loss_df = pd.concat([val_loss_df, row], ignore_index = True, axis = 0)\n",
    "\n",
    "    print(f\"Validation loss after {epoch} epochs: {val_loss['total_loss']}\") \n",
    "    print(f'Time elapsed for {epoch} epochs: {time.time()-time_start}') \n",
    "\n",
    "      \n",
    "    \"\"\"\n",
    "    Save checkpoints and losses every 5 epoch\n",
    "    \"\"\"\n",
    "    if epoch%5 == 0: \n",
    "        checkpoint = {\"state_dict\": model.state_dict(),\n",
    "                        \"optimizer\": optimizer.state_dict(),\n",
    "                        \"step\": epoch,\n",
    "                        \"ds_args\" : data_args\n",
    "                        }\n",
    "        fname = \"model_\" + str(epoch) + \"_epochs.pth\"\n",
    "        helper.save_checkpoint(checkpoint, fname)\n",
    "        print(f'Time elapsed after {epoch} epochs: {time.time()-time_start}')  \n",
    "        val_loss_df.to_csv(Path.cwd().parent.joinpath(\"val_loss.csv\"))\n",
    "        train_loss_df.to_csv(Path.cwd().parent.joinpath(\"train_loss.csv\"))\n",
    "\n",
    "    \n",
    "    \n",
    "    #for final epoch \n",
    "    if epoch == num_epochs-1: \n",
    "        helper.save_model(model.state_dict(), \"model.pth\")\n",
    "        val_loss_df.to_csv(Path.cwd().parent.joinpath(\"val_loss.csv\"))\n",
    "        train_loss_df.to_csv(Path.cwd().parent.joinpath(\"train_loss.csv\"))\n",
    "    \n",
    "    \n",
    "    \n",
    "print(f\"Time elapsed for {epoch+1} epochs: {round((time.time()-time_start)/60, 2)} min\")"
   ]
  },
  {
   "cell_type": "markdown",
   "id": "d84a9cfa-912a-4885-962c-7f7dc807ccde",
   "metadata": {},
   "source": [
    "# Plot loss "
   ]
  },
  {
   "cell_type": "code",
   "execution_count": 14,
   "id": "96f98a05-d7e5-422a-a34e-6f2a9dece363",
   "metadata": {},
   "outputs": [
    {
     "data": {
      "text/plain": [
       "<AxesSubplot:>"
      ]
     },
     "execution_count": 14,
     "metadata": {},
     "output_type": "execute_result"
    },
    {
     "data": {
      "image/png": "[encoded data removed]",
      "text/plain": [
       "<Figure size 432x288 with 1 Axes>"
      ]
     },
     "metadata": {
      "needs_background": "light"
     },
     "output_type": "display_data"
    }
   ],
   "source": [
    "new_df = pd.DataFrame() \n",
    "#new_df['epoch'] = train_loss_df['epoch'] \n",
    "new_df['train_loss'] = train_loss_df['total_loss'] \n",
    "new_df['val_loss'] = val_loss_df['total_loss'] \n",
    "\n",
    "sns.lineplot(data = new_df[1:])\n",
    "#new_df\n"
   ]
  },
  {
   "cell_type": "markdown",
   "id": "fef09e8e-7c71-4ef7-b36a-e4711d18cdd3",
   "metadata": {},
   "source": [
    "# Calculate mAP on train set\n"
   ]
  },
  {
   "cell_type": "code",
   "execution_count": 15,
   "id": "a26c9f59-547d-4005-97d4-ae5913053af7",
   "metadata": {},
   "outputs": [
    {
     "data": {
      "text/plain": [
       "<module 'src.metrics' from '/home/INM705/INM705_CW_Collins_Velagala/notebooks/../src/metrics.py'>"
      ]
     },
     "execution_count": 15,
     "metadata": {},
     "output_type": "execute_result"
    }
   ],
   "source": [
    "importlib.reload(metrics)"
   ]
  },
  {
   "cell_type": "code",
   "execution_count": 16,
   "id": "89b2e581-a854-41ec-93c3-7e8c2a7cc3e7",
   "metadata": {},
   "outputs": [
    {
     "name": "stdout",
     "output_type": "stream",
     "text": [
      "Loaded from model model.pth!\n"
     ]
    }
   ],
   "source": [
    "num_classes = 7\n",
    "\n",
    "#model setup \n",
    "model = get_instance_segmentation_model(num_classes)\n",
    "model.to(device)\n",
    "\n",
    "helper.load_model(model, 'model.pth')\n"
   ]
  },
  {
   "cell_type": "code",
   "execution_count": 17,
   "id": "64f7779d-01a7-47e8-b48e-1edf6a713bda",
   "metadata": {},
   "outputs": [],
   "source": [
    "train_loader = torch.utils.data.DataLoader(\n",
    " dataset_train, batch_size=1, shuffle=True, #num_workers=4,\n",
    " collate_fn=helper.CollateCustom())"
   ]
  },
  {
   "cell_type": "code",
   "execution_count": 18,
   "id": "3ab21fbb-26e5-473e-b353-487a7608b772",
   "metadata": {},
   "outputs": [],
   "source": [
    "#mAP but not calculated as per fed set since there's no negative set \n",
    "pred_boxes =[]\n",
    "gt =[] \n",
    "\n",
    "for idx,X, y in train_loader:\n",
    "    model.eval()\n",
    "    y_pred = model(X.to(device)) \n",
    "    pred_boxes, gt = metrics.store_preds(idx, y, y_pred, pred_boxes, gt)"
   ]
  },
  {
   "cell_type": "code",
   "execution_count": 19,
   "id": "e3305c2a-52e0-46f5-8a39-73e59abb060f",
   "metadata": {},
   "outputs": [],
   "source": [
    "mAP_list = [] \n",
    "ap_list = []\n",
    "\n",
    "thresholds= np.arange(0.5, 1, 0.05) #0.5 -0.95\n",
    "for iou_thres in thresholds:\n",
    "    mAP, AP = metrics.calculate_ap(pred_boxes, gt, train_data.class_datasets, iou_threshold = iou_thres)\n",
    "    mAP_list.append(mAP) \n",
    "    ap_list.append(AP)"
   ]
  },
  {
   "cell_type": "code",
   "execution_count": 20,
   "id": "de6f09a0-42d1-414c-9370-32941edb0a4b",
   "metadata": {},
   "outputs": [
    {
     "name": "stdout",
     "output_type": "stream",
     "text": [
      "{1: 'apricot', 2: 'crouton', 3: 'crumb', 4: 'grape', 5: 'pea_(food)', 6: 'peach'}\n"
     ]
    }
   ],
   "source": [
    "class_names = {} \n",
    "for key, val in train_data.class_idx_map.items() :\n",
    "    for k, v in train_data.classes.items():\n",
    "        if key == v:\n",
    "            class_names[val] = k\n",
    "print(class_names)\n",
    "    "
   ]
  },
  {
   "cell_type": "markdown",
   "id": "3b1119fc-575c-4bf8-89a9-fbfe3244f2ba",
   "metadata": {},
   "source": [
    "## Average Precision"
   ]
  },
  {
   "cell_type": "code",
   "execution_count": 21,
   "id": "eb79b8ff-7f48-4a76-8427-d501b5f4bf22",
   "metadata": {},
   "outputs": [
    {
     "data": {
      "text/plain": [
       "[Text(0.5, 1.0, 'Average Precision by IOU Threshold (train)')]"
      ]
     },
     "execution_count": 21,
     "metadata": {},
     "output_type": "execute_result"
    },
    {
     "data": {
      "image/png": "[encoded data removed]",
      "text/plain": [
       "<Figure size 432x288 with 1 Axes>"
      ]
     },
     "metadata": {
      "needs_background": "light"
     },
     "output_type": "display_data"
    }
   ],
   "source": [
    "df_AP = pd.DataFrame(columns = [\"iou_thres\", \"class_name\", \"AP\"])\n",
    "\n",
    "for idx, class_aps in enumerate(ap_list):\n",
    "    iou_thres = thresholds[idx]\n",
    "    for key, val in class_aps.items():\n",
    "        class_name = class_names[key] \n",
    "\n",
    "        row = pd.DataFrame({\"iou_thres\": [iou_thres],\n",
    "               \"class_name\": [class_name],\n",
    "               \"AP\": [val.item()]\n",
    "              })\n",
    "        df_AP = pd.concat([df_AP, row], axis = 0, ignore_index = True)\n",
    "        \n",
    "df_AP.head()\n",
    "sns.lineplot(data= df_AP, x=\"iou_thres\", y=\"AP\", hue = \"class_name\").set(title=\"Average Precision by IOU Threshold (train)\")"
   ]
  },
  {
   "cell_type": "markdown",
   "id": "ccf7d4cf-afea-468a-a434-885e3f13ce84",
   "metadata": {},
   "source": [
    "## mean Average Precision "
   ]
  },
  {
   "cell_type": "code",
   "execution_count": 22,
   "id": "b0c15c09-dc2c-4757-9797-809df74afadd",
   "metadata": {},
   "outputs": [
    {
     "data": {
      "text/plain": [
       "[Text(0.5, 1.0, 'mAP (train)')]"
      ]
     },
     "execution_count": 22,
     "metadata": {},
     "output_type": "execute_result"
    },
    {
     "data": {
      "image/png": "[encoded data removed]",
      "text/plain": [
       "<Figure size 432x288 with 1 Axes>"
      ]
     },
     "metadata": {
      "needs_background": "light"
     },
     "output_type": "display_data"
    }
   ],
   "source": [
    "df_mAP = pd.DataFrame(columns = [\"iou_thres\", \"mAP\"])\n",
    "\n",
    "for idx, mAP in enumerate(mAP_list):\n",
    "    row = pd.DataFrame({\"iou_thres\":[thresholds[idx]],\n",
    "                        \"mAP\": [mAP_list[idx].item()]})\n",
    "    df_mAP = pd.concat([df_mAP, row], axis = 0, ignore_index = True) \n",
    "    \n",
    "#df_mAP    \n",
    "    \n",
    "sns.lineplot(data = df_mAP, x =\"iou_thres\", y=\"mAP\").set(title = \"mAP (train)\")"
   ]
  },
  {
   "cell_type": "markdown",
   "id": "60d71502-8b3b-4d2c-9aeb-37efd5c2414e",
   "metadata": {},
   "source": [
    "# Calculate mAP on test set"
   ]
  },
  {
   "cell_type": "code",
   "execution_count": 23,
   "id": "504f818c-4017-472b-83ef-49c09067d622",
   "metadata": {},
   "outputs": [],
   "source": [
    "test_loader = torch.utils.data.DataLoader(\n",
    " val_data, batch_size=1, shuffle=True, #num_workers=4,\n",
    " collate_fn=helper.CollateCustom())\n"
   ]
  },
  {
   "cell_type": "code",
   "execution_count": 24,
   "id": "49cfaca4-1cd8-4189-bea6-512a2cf7e834",
   "metadata": {},
   "outputs": [],
   "source": [
    "pred_boxes =[]\n",
    "gt =[] \n",
    "\n",
    "for idx,X, y in test_loader:\n",
    "    model.eval()\n",
    "    y_pred = model(X.to(device)) \n",
    "    pred_boxes, gt = metrics.store_preds(idx, y, y_pred, pred_boxes, gt)"
   ]
  },
  {
   "cell_type": "code",
   "execution_count": 25,
   "id": "c6116f24-8ab3-4546-9126-a23d4e476566",
   "metadata": {},
   "outputs": [],
   "source": [
    "mAP_list = [] \n",
    "ap_list = []\n",
    "\n",
    "thresholds= np.arange(0.5, 1, 0.05) #0.5 -0.95\n",
    "for iou_thres in thresholds:\n",
    "    mAP, AP = metrics.calculate_ap(pred_boxes, gt, iou_threshold = iou_thres, class_datasets = val_data.class_datasets)\n",
    "    mAP_list.append(mAP) \n",
    "    ap_list.append(AP)"
   ]
  },
  {
   "cell_type": "code",
   "execution_count": 26,
   "id": "293e55ff-9490-4366-a193-11fff2eb5133",
   "metadata": {},
   "outputs": [
    {
     "name": "stdout",
     "output_type": "stream",
     "text": [
      "{1: 'apricot', 2: 'crouton', 3: 'crumb', 4: 'grape', 5: 'pea_(food)', 6: 'peach'}\n"
     ]
    }
   ],
   "source": [
    "class_names = {} \n",
    "for key, val in val_data.class_idx_map.items() :\n",
    "    for k, v in val_data.classes.items():\n",
    "        if key == v:\n",
    "            class_names[val] = k\n",
    "print(class_names)\n",
    "    "
   ]
  },
  {
   "cell_type": "markdown",
   "id": "5f738c5d-4edc-4b0f-86dd-80acb1f2e6be",
   "metadata": {},
   "source": [
    "## calculate AP on train set"
   ]
  },
  {
   "cell_type": "code",
   "execution_count": 27,
   "id": "89348d29-eb17-41a6-b4e3-0a0fe708afd5",
   "metadata": {},
   "outputs": [
    {
     "data": {
      "text/plain": [
       "[Text(0.5, 1.0, 'Average Precision by IOU Threshold')]"
      ]
     },
     "execution_count": 27,
     "metadata": {},
     "output_type": "execute_result"
    },
    {
     "data": {
      "image/png": "[encoded data removed]",
      "text/plain": [
       "<Figure size 432x288 with 1 Axes>"
      ]
     },
     "metadata": {
      "needs_background": "light"
     },
     "output_type": "display_data"
    }
   ],
   "source": [
    "df_AP = pd.DataFrame(columns = [\"iou_thres\", \"class_name\", \"AP\"])\n",
    "\n",
    "for idx, class_aps in enumerate(ap_list):\n",
    "    iou_thres = thresholds[idx]\n",
    "    for key, val in class_aps.items():\n",
    "        class_name = class_names[key] \n",
    "\n",
    "        row = pd.DataFrame({\"iou_thres\": [iou_thres],\n",
    "               \"class_name\": [class_name],\n",
    "               \"AP\": [val.item()]\n",
    "              })\n",
    "        df_AP = pd.concat([df_AP, row], axis = 0, ignore_index = True)\n",
    "        \n",
    "df_AP.head()\n",
    "sns.lineplot(data= df_AP, x=\"iou_thres\", y=\"AP\", hue = \"class_name\").set(title=\"Average Precision by IOU Threshold\")"
   ]
  },
  {
   "cell_type": "code",
   "execution_count": 28,
   "id": "1cf65d32-3d74-45ac-a48d-390238541ac8",
   "metadata": {},
   "outputs": [
    {
     "ename": "NameError",
     "evalue": "name 'grape' is not defined",
     "output_type": "error",
     "traceback": [
      "\u001b[0;31m---------------------------------------------------------------------------\u001b[0m",
      "\u001b[0;31mNameError\u001b[0m                                 Traceback (most recent call last)",
      "\u001b[0;32m<ipython-input-28-0f4c4064bd8c>\u001b[0m in \u001b[0;36m<module>\u001b[0;34m\u001b[0m\n\u001b[0;32m----> 1\u001b[0;31m \u001b[0mgrape\u001b[0m \u001b[0;34m-\u001b[0m \u001b[0mf\u001b[0m\u001b[0;34m\u001b[0m\u001b[0;34m\u001b[0m\u001b[0m\n\u001b[0m\u001b[1;32m      2\u001b[0m \u001b[0mcrump\u001b[0m \u001b[0;34m-\u001b[0m \u001b[0mf\u001b[0m\u001b[0;34m\u001b[0m\u001b[0;34m\u001b[0m\u001b[0m\n\u001b[1;32m      3\u001b[0m \u001b[0mpea_\u001b[0m\u001b[0;34m(\u001b[0m\u001b[0mfood\u001b[0m\u001b[0;34m)\u001b[0m \u001b[0;34m-\u001b[0m \u001b[0mc\u001b[0m\u001b[0;34m\u001b[0m\u001b[0;34m\u001b[0m\u001b[0m\n\u001b[1;32m      4\u001b[0m \u001b[0mpeach\u001b[0m \u001b[0;34m-\u001b[0m \u001b[0mc\u001b[0m\u001b[0;34m\u001b[0m\u001b[0;34m\u001b[0m\u001b[0m\n\u001b[1;32m      5\u001b[0m \u001b[0mapricot\u001b[0m \u001b[0;34m-\u001b[0m \u001b[0mr\u001b[0m\u001b[0;34m\u001b[0m\u001b[0;34m\u001b[0m\u001b[0m\n",
      "\u001b[0;31mNameError\u001b[0m: name 'grape' is not defined"
     ]
    }
   ],
   "source": [
    "grape - f\n",
    "crump - f\n",
    "pea_(food) - c\n",
    "peach - c\n",
    "apricot - r\n",
    "crouton - r"
   ]
  },
  {
   "cell_type": "code",
   "execution_count": 29,
   "id": "24fca44d-6bf5-4634-9df9-34c48ada5969",
   "metadata": {},
   "outputs": [
    {
     "data": {
      "text/plain": [
       "[Text(0.5, 1.0, 'Average Precision by IOU Threshold')]"
      ]
     },
     "execution_count": 29,
     "metadata": {},
     "output_type": "execute_result"
    },
    {
     "data": {
      "image/png": "[encoded data removed]",
      "text/plain": [
       "<Figure size 432x288 with 1 Axes>"
      ]
     },
     "metadata": {
      "needs_background": "light"
     },
     "output_type": "display_data"
    }
   ],
   "source": [
    "class_frequency_dict = {'grape': 'frequent', 'crumb': 'frequent', 'pea_(food)': 'common', \n",
    "                        'peach': 'common', 'apricot': 'rare', 'crouton': 'rare'}\n",
    "\n",
    "\n",
    "#{'cappuccino': 'common', 'chessboard': 'rare',  'coffee_maker':'frequent', \n",
    "#                        'cowboy_hat':'frequent', 'drumstick':'rare', 'monkey':'common'}\n",
    "\n",
    "df_AP_freq = df_AP\n",
    "df_AP_freq['class_frequency'] = df_AP_freq['class_name'].map(class_frequency_dict)\n",
    "temp = df_AP_freq.groupby(by= [\"iou_thres\", \"class_frequency\"])['AP'].mean().reset_index()\n",
    "sns.lineplot(data= temp, x=\"iou_thres\", y=\"AP\", hue = \"class_frequency\").set(title=\"Average Precision by IOU Threshold\")"
   ]
  },
  {
   "cell_type": "code",
   "execution_count": 30,
   "id": "a1364aea-f05e-4923-95a1-037456b9caa6",
   "metadata": {},
   "outputs": [
    {
     "data": {
      "text/html": [
       "<div>\n",
       "<style scoped>\n",
       "    .dataframe tbody tr th:only-of-type {\n",
       "        vertical-align: middle;\n",
       "    }\n",
       "\n",
       "    .dataframe tbody tr th {\n",
       "        vertical-align: top;\n",
       "    }\n",
       "\n",
       "    .dataframe thead th {\n",
       "        text-align: right;\n",
       "    }\n",
       "</style>\n",
       "<table border=\"1\" class=\"dataframe\">\n",
       "  <thead>\n",
       "    <tr style=\"text-align: right;\">\n",
       "      <th></th>\n",
       "      <th>iou_thres</th>\n",
       "      <th>class_frequency</th>\n",
       "      <th>AP</th>\n",
       "    </tr>\n",
       "  </thead>\n",
       "  <tbody>\n",
       "    <tr>\n",
       "      <th>0</th>\n",
       "      <td>0.50</td>\n",
       "      <td>common</td>\n",
       "      <td>0.105029</td>\n",
       "    </tr>\n",
       "    <tr>\n",
       "      <th>1</th>\n",
       "      <td>0.50</td>\n",
       "      <td>frequent</td>\n",
       "      <td>0.073043</td>\n",
       "    </tr>\n",
       "    <tr>\n",
       "      <th>2</th>\n",
       "      <td>0.50</td>\n",
       "      <td>rare</td>\n",
       "      <td>0.000000</td>\n",
       "    </tr>\n",
       "    <tr>\n",
       "      <th>3</th>\n",
       "      <td>0.55</td>\n",
       "      <td>common</td>\n",
       "      <td>0.101976</td>\n",
       "    </tr>\n",
       "    <tr>\n",
       "      <th>4</th>\n",
       "      <td>0.55</td>\n",
       "      <td>frequent</td>\n",
       "      <td>0.062475</td>\n",
       "    </tr>\n",
       "    <tr>\n",
       "      <th>5</th>\n",
       "      <td>0.55</td>\n",
       "      <td>rare</td>\n",
       "      <td>0.000000</td>\n",
       "    </tr>\n",
       "    <tr>\n",
       "      <th>6</th>\n",
       "      <td>0.60</td>\n",
       "      <td>common</td>\n",
       "      <td>0.070358</td>\n",
       "    </tr>\n",
       "    <tr>\n",
       "      <th>7</th>\n",
       "      <td>0.60</td>\n",
       "      <td>frequent</td>\n",
       "      <td>0.047108</td>\n",
       "    </tr>\n",
       "    <tr>\n",
       "      <th>8</th>\n",
       "      <td>0.60</td>\n",
       "      <td>rare</td>\n",
       "      <td>0.000000</td>\n",
       "    </tr>\n",
       "    <tr>\n",
       "      <th>9</th>\n",
       "      <td>0.65</td>\n",
       "      <td>common</td>\n",
       "      <td>0.062729</td>\n",
       "    </tr>\n",
       "    <tr>\n",
       "      <th>10</th>\n",
       "      <td>0.65</td>\n",
       "      <td>frequent</td>\n",
       "      <td>0.036400</td>\n",
       "    </tr>\n",
       "    <tr>\n",
       "      <th>11</th>\n",
       "      <td>0.65</td>\n",
       "      <td>rare</td>\n",
       "      <td>0.000000</td>\n",
       "    </tr>\n",
       "    <tr>\n",
       "      <th>12</th>\n",
       "      <td>0.70</td>\n",
       "      <td>common</td>\n",
       "      <td>0.035728</td>\n",
       "    </tr>\n",
       "    <tr>\n",
       "      <th>13</th>\n",
       "      <td>0.70</td>\n",
       "      <td>frequent</td>\n",
       "      <td>0.024934</td>\n",
       "    </tr>\n",
       "    <tr>\n",
       "      <th>14</th>\n",
       "      <td>0.70</td>\n",
       "      <td>rare</td>\n",
       "      <td>0.000000</td>\n",
       "    </tr>\n",
       "    <tr>\n",
       "      <th>15</th>\n",
       "      <td>0.75</td>\n",
       "      <td>common</td>\n",
       "      <td>0.023100</td>\n",
       "    </tr>\n",
       "    <tr>\n",
       "      <th>16</th>\n",
       "      <td>0.75</td>\n",
       "      <td>frequent</td>\n",
       "      <td>0.016976</td>\n",
       "    </tr>\n",
       "    <tr>\n",
       "      <th>17</th>\n",
       "      <td>0.75</td>\n",
       "      <td>rare</td>\n",
       "      <td>0.000000</td>\n",
       "    </tr>\n",
       "    <tr>\n",
       "      <th>18</th>\n",
       "      <td>0.80</td>\n",
       "      <td>common</td>\n",
       "      <td>0.013777</td>\n",
       "    </tr>\n",
       "    <tr>\n",
       "      <th>19</th>\n",
       "      <td>0.80</td>\n",
       "      <td>frequent</td>\n",
       "      <td>0.008575</td>\n",
       "    </tr>\n",
       "    <tr>\n",
       "      <th>20</th>\n",
       "      <td>0.80</td>\n",
       "      <td>rare</td>\n",
       "      <td>0.000000</td>\n",
       "    </tr>\n",
       "    <tr>\n",
       "      <th>21</th>\n",
       "      <td>0.85</td>\n",
       "      <td>common</td>\n",
       "      <td>0.002511</td>\n",
       "    </tr>\n",
       "    <tr>\n",
       "      <th>22</th>\n",
       "      <td>0.85</td>\n",
       "      <td>frequent</td>\n",
       "      <td>0.003041</td>\n",
       "    </tr>\n",
       "    <tr>\n",
       "      <th>23</th>\n",
       "      <td>0.85</td>\n",
       "      <td>rare</td>\n",
       "      <td>0.000000</td>\n",
       "    </tr>\n",
       "    <tr>\n",
       "      <th>24</th>\n",
       "      <td>0.90</td>\n",
       "      <td>common</td>\n",
       "      <td>0.002511</td>\n",
       "    </tr>\n",
       "    <tr>\n",
       "      <th>25</th>\n",
       "      <td>0.90</td>\n",
       "      <td>frequent</td>\n",
       "      <td>0.001056</td>\n",
       "    </tr>\n",
       "    <tr>\n",
       "      <th>26</th>\n",
       "      <td>0.90</td>\n",
       "      <td>rare</td>\n",
       "      <td>0.000000</td>\n",
       "    </tr>\n",
       "    <tr>\n",
       "      <th>27</th>\n",
       "      <td>0.95</td>\n",
       "      <td>common</td>\n",
       "      <td>0.000000</td>\n",
       "    </tr>\n",
       "    <tr>\n",
       "      <th>28</th>\n",
       "      <td>0.95</td>\n",
       "      <td>frequent</td>\n",
       "      <td>0.000000</td>\n",
       "    </tr>\n",
       "    <tr>\n",
       "      <th>29</th>\n",
       "      <td>0.95</td>\n",
       "      <td>rare</td>\n",
       "      <td>0.000000</td>\n",
       "    </tr>\n",
       "  </tbody>\n",
       "</table>\n",
       "</div>"
      ],
      "text/plain": [
       "    iou_thres class_frequency        AP\n",
       "0        0.50          common  0.105029\n",
       "1        0.50        frequent  0.073043\n",
       "2        0.50            rare  0.000000\n",
       "3        0.55          common  0.101976\n",
       "4        0.55        frequent  0.062475\n",
       "5        0.55            rare  0.000000\n",
       "6        0.60          common  0.070358\n",
       "7        0.60        frequent  0.047108\n",
       "8        0.60            rare  0.000000\n",
       "9        0.65          common  0.062729\n",
       "10       0.65        frequent  0.036400\n",
       "11       0.65            rare  0.000000\n",
       "12       0.70          common  0.035728\n",
       "13       0.70        frequent  0.024934\n",
       "14       0.70            rare  0.000000\n",
       "15       0.75          common  0.023100\n",
       "16       0.75        frequent  0.016976\n",
       "17       0.75            rare  0.000000\n",
       "18       0.80          common  0.013777\n",
       "19       0.80        frequent  0.008575\n",
       "20       0.80            rare  0.000000\n",
       "21       0.85          common  0.002511\n",
       "22       0.85        frequent  0.003041\n",
       "23       0.85            rare  0.000000\n",
       "24       0.90          common  0.002511\n",
       "25       0.90        frequent  0.001056\n",
       "26       0.90            rare  0.000000\n",
       "27       0.95          common  0.000000\n",
       "28       0.95        frequent  0.000000\n",
       "29       0.95            rare  0.000000"
      ]
     },
     "execution_count": 30,
     "metadata": {},
     "output_type": "execute_result"
    }
   ],
   "source": [
    "temp"
   ]
  },
  {
   "cell_type": "markdown",
   "id": "68915007-aa38-4b80-a338-a712eaccc561",
   "metadata": {},
   "source": [
    "## calculate mAP on train set"
   ]
  },
  {
   "cell_type": "code",
   "execution_count": 31,
   "id": "64110384-4c73-4ea3-8238-6137709df8f6",
   "metadata": {},
   "outputs": [
    {
     "data": {
      "text/plain": [
       "[Text(0.5, 1.0, 'mAP (test)')]"
      ]
     },
     "execution_count": 31,
     "metadata": {},
     "output_type": "execute_result"
    },
    {
     "data": {
      "image/png": "[encoded data removed]",
      "text/plain": [
       "<Figure size 432x288 with 1 Axes>"
      ]
     },
     "metadata": {
      "needs_background": "light"
     },
     "output_type": "display_data"
    }
   ],
   "source": [
    "df_mAP = pd.DataFrame(columns = [\"iou_thres\", \"mAP\"])\n",
    "\n",
    "for idx, mAP in enumerate(mAP_list):\n",
    "    row = pd.DataFrame({\"iou_thres\":[thresholds[idx]],\n",
    "                        \"mAP\": [mAP_list[idx].item()]})\n",
    "    df_mAP = pd.concat([df_mAP, row], axis = 0, ignore_index = True) \n",
    "    \n",
    "#df_mAP    \n",
    "    \n",
    "sns.lineplot(data = df_mAP, x =\"iou_thres\", y=\"mAP\").set(title = \"mAP (test)\")"
   ]
  },
  {
   "cell_type": "code",
   "execution_count": 32,
   "id": "3efa87bf-c63a-47c1-8103-a217b918d078",
   "metadata": {},
   "outputs": [
    {
     "data": {
      "text/html": [
       "<div>\n",
       "<style scoped>\n",
       "    .dataframe tbody tr th:only-of-type {\n",
       "        vertical-align: middle;\n",
       "    }\n",
       "\n",
       "    .dataframe tbody tr th {\n",
       "        vertical-align: top;\n",
       "    }\n",
       "\n",
       "    .dataframe thead th {\n",
       "        text-align: right;\n",
       "    }\n",
       "</style>\n",
       "<table border=\"1\" class=\"dataframe\">\n",
       "  <thead>\n",
       "    <tr style=\"text-align: right;\">\n",
       "      <th></th>\n",
       "      <th>iou_thres</th>\n",
       "      <th>mAP</th>\n",
       "    </tr>\n",
       "  </thead>\n",
       "  <tbody>\n",
       "    <tr>\n",
       "      <th>0</th>\n",
       "      <td>0.5</td>\n",
       "      <td>0.059357</td>\n",
       "    </tr>\n",
       "    <tr>\n",
       "      <th>1</th>\n",
       "      <td>0.55</td>\n",
       "      <td>0.054817</td>\n",
       "    </tr>\n",
       "    <tr>\n",
       "      <th>2</th>\n",
       "      <td>0.6</td>\n",
       "      <td>0.039156</td>\n",
       "    </tr>\n",
       "    <tr>\n",
       "      <th>3</th>\n",
       "      <td>0.65</td>\n",
       "      <td>0.033043</td>\n",
       "    </tr>\n",
       "    <tr>\n",
       "      <th>4</th>\n",
       "      <td>0.7</td>\n",
       "      <td>0.020221</td>\n",
       "    </tr>\n",
       "    <tr>\n",
       "      <th>5</th>\n",
       "      <td>0.75</td>\n",
       "      <td>0.013359</td>\n",
       "    </tr>\n",
       "    <tr>\n",
       "      <th>6</th>\n",
       "      <td>0.8</td>\n",
       "      <td>0.007451</td>\n",
       "    </tr>\n",
       "    <tr>\n",
       "      <th>7</th>\n",
       "      <td>0.85</td>\n",
       "      <td>0.001851</td>\n",
       "    </tr>\n",
       "    <tr>\n",
       "      <th>8</th>\n",
       "      <td>0.9</td>\n",
       "      <td>0.001189</td>\n",
       "    </tr>\n",
       "    <tr>\n",
       "      <th>9</th>\n",
       "      <td>0.95</td>\n",
       "      <td>0.0</td>\n",
       "    </tr>\n",
       "  </tbody>\n",
       "</table>\n",
       "</div>"
      ],
      "text/plain": [
       "  iou_thres       mAP\n",
       "0       0.5  0.059357\n",
       "1      0.55  0.054817\n",
       "2       0.6  0.039156\n",
       "3      0.65  0.033043\n",
       "4       0.7  0.020221\n",
       "5      0.75  0.013359\n",
       "6       0.8  0.007451\n",
       "7      0.85  0.001851\n",
       "8       0.9  0.001189\n",
       "9      0.95       0.0"
      ]
     },
     "execution_count": 32,
     "metadata": {},
     "output_type": "execute_result"
    }
   ],
   "source": [
    "df_mAP"
   ]
  },
  {
   "cell_type": "code",
   "execution_count": null,
   "id": "77de4a21-3f8c-45c3-b55b-523bd5faa80b",
   "metadata": {},
   "outputs": [],
   "source": []
  }
 ],
 "metadata": {
  "kernelspec": {
   "display_name": "Python 3",
   "language": "python",
   "name": "python3"
  },
  "language_info": {
   "codemirror_mode": {
    "name": "ipython",
    "version": 3
   },
   "file_extension": ".py",
   "mimetype": "text/x-python",
   "name": "python",
   "nbconvert_exporter": "python",
   "pygments_lexer": "ipython3",
   "version": "3.8.10"
  }
 },
 "nbformat": 4,
 "nbformat_minor": 5
}
