{
 "cells": [
  {
   "cell_type": "markdown",
   "id": "e702eec7-3a9e-4eee-b5dd-10940ada1d67",
   "metadata": {},
   "source": [
    "# Mask RCNN inference example\n",
    "\n",
    "Just an exercise to get my head around what we're doing.\n",
    "\n",
    "Alex"
   ]
  },
  {
   "cell_type": "markdown",
   "id": "62ab292d-96f7-4660-92e9-bd27feecaabb",
   "metadata": {},
   "source": [
    "### Coco category names\n",
    "\n",
    "Below is a list of category names I found. Looks like it deals with the 80 vs 90 categories in a different way to the lab with 'N/A's in the list rather than redefining the category indices."
   ]
  },
  {
   "cell_type": "code",
   "execution_count": 2,
   "id": "83e12bce-edee-4651-b413-83c05d077337",
   "metadata": {},
   "outputs": [],
   "source": [
    "COCO_INSTANCE_CATEGORY_NAMES = [\n",
    "    '__background__', 'person', 'bicycle', 'car', 'motorcycle', 'airplane', 'bus',\n",
    "    'train', 'truck', 'boat', 'traffic light', 'fire hydrant', 'N/A', 'stop sign',\n",
    "    'parking meter', 'bench', 'bird', 'cat', 'dog', 'horse', 'sheep', 'cow',\n",
    "    'elephant', 'bear', 'zebra', 'giraffe', 'N/A', 'backpack', 'umbrella', 'N/A', 'N/A',\n",
    "    'handbag', 'tie', 'suitcase', 'frisbee', 'skis', 'snowboard', 'sports ball',\n",
    "    'kite', 'baseball bat', 'baseball glove', 'skateboard', 'surfboard', 'tennis racket',\n",
    "    'bottle', 'N/A', 'wine glass', 'cup', 'fork', 'knife', 'spoon', 'bowl',\n",
    "    'banana', 'apple', 'sandwich', 'orange', 'broccoli', 'carrot', 'hot dog', 'pizza',\n",
    "    'donut', 'cake', 'chair', 'couch', 'potted plant', 'bed', 'N/A', 'dining table',\n",
    "    'N/A', 'N/A', 'toilet', 'N/A', 'tv', 'laptop', 'mouse', 'remote', 'keyboard', 'cell phone',\n",
    "    'microwave', 'oven', 'toaster', 'sink', 'refrigerator', 'N/A', 'book',\n",
    "    'clock', 'vase', 'scissors', 'teddy bear', 'hair drier', 'toothbrush'\n",
    "]"
   ]
  },
  {
   "cell_type": "markdown",
   "id": "ec6299c8-8d88-406f-bc62-07a19a9d6071",
   "metadata": {},
   "source": [
    "Compare with taking from pycocotools:\n",
    "\n",
    "I think my dictionary below - `cat_dict` - should be quite useful."
   ]
  },
  {
   "cell_type": "code",
   "execution_count": 5,
   "id": "25ff665c-f417-4563-af03-19f34c4f747c",
   "metadata": {},
   "outputs": [
    {
     "name": "stdout",
     "output_type": "stream",
     "text": [
      "loading annotations into memory...\n",
      "Done (t=7.43s)\n",
      "creating index...\n",
      "index created!\n"
     ]
    }
   ],
   "source": [
    "from pycocotools.coco import COCO\n",
    "from pathlib import Path\n",
    "\n",
    "datadir = Path('../Datasets/coco/images/train2017')\n",
    "annFile = Path('../Datasets/coco/annotations/instances_train2017.json')\n",
    "\n",
    "coco = COCO(annFile)"
   ]
  },
  {
   "cell_type": "code",
   "execution_count": 12,
   "id": "c8598a0b-2bde-42ad-8ad3-851cdcbfe0e4",
   "metadata": {},
   "outputs": [],
   "source": [
    "catIds = coco.getCatIds()\n",
    "cats = coco.loadCats(catIds)\n",
    "# this cat_dict will translate from model integer categary predictions to class names\n",
    "cat_dict = dict(zip(catIds, [c['name'] for c in cats]))\n",
    "# cat_dict"
   ]
  },
  {
   "cell_type": "code",
   "execution_count": null,
   "id": "1ef1933f-b7ba-4324-b465-e2c3715e98b1",
   "metadata": {},
   "outputs": [],
   "source": []
  }
 ],
 "metadata": {
  "kernelspec": {
   "display_name": "Python 3 (ipykernel)",
   "language": "python",
   "name": "python3"
  },
  "language_info": {
   "codemirror_mode": {
    "name": "ipython",
    "version": 3
   },
   "file_extension": ".py",
   "mimetype": "text/x-python",
   "name": "python",
   "nbconvert_exporter": "python",
   "pygments_lexer": "ipython3",
   "version": "3.9.10"
  }
 },
 "nbformat": 4,
 "nbformat_minor": 5
}
