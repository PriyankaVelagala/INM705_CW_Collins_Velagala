{
 "cells": [
  {
   "cell_type": "code",
   "execution_count": 1,
   "id": "8110a508-5c22-443e-8c2d-1f2785961a11",
   "metadata": {},
   "outputs": [],
   "source": [
    "import sys \n",
    "sys.path.append('../')"
   ]
  },
  {
   "cell_type": "code",
   "execution_count": 2,
   "id": "dc16b26c-4d09-4f3e-9f19-dcb81493fcd6",
   "metadata": {
    "tags": []
   },
   "outputs": [],
   "source": [
    "import os\n",
    "import torch\n",
    "from PIL import Image\n",
    "import pandas as pd \n",
    "import sys \n",
    "import json \n",
    "from src import dataset_lvis\n",
    "from src import metrics\n",
    "from src import helper_functions as helper\n",
    "import importlib\n",
    "from pathlib import Path \n",
    "from PIL import Image as PILImage\n",
    "import numpy as np\n",
    "import matplotlib.pyplot as plt\n",
    "from torch.optim.lr_scheduler import StepLR\n",
    "import pandas as pd \n",
    "import time \n",
    "import torchvision\n",
    "from torchvision.models.detection.faster_rcnn import FastRCNNPredictor\n",
    "from torchvision.models.detection.mask_rcnn import MaskRCNNPredictor\n",
    "from torchvision.models.detection.rpn import AnchorGenerator\n",
    "from torchvision.models.detection import MaskRCNN\n",
    "import torchvision.models.detection.backbone_utils #import _resnet_fpn_extractor\n",
    "import torch.nn as nn\n",
    "\n",
    "import matplotlib.pyplot as plt \n",
    "import seaborn as sns \n",
    "sns.set()"
   ]
  },
  {
   "cell_type": "code",
   "execution_count": 3,
   "id": "713acfd1-c1cf-44fa-b17f-bb640870fab9",
   "metadata": {},
   "outputs": [
    {
     "data": {
      "text/plain": [
       "<module 'src.dataset_lvis' from '/home/INM705/INM705_CW_Collins_Velagala/notebooks/../src/dataset_lvis.py'>"
      ]
     },
     "execution_count": 3,
     "metadata": {},
     "output_type": "execute_result"
    }
   ],
   "source": [
    "importlib.reload(dataset_lvis)"
   ]
  },
  {
   "cell_type": "code",
   "execution_count": 4,
   "id": "97408296-2f70-4eaa-8243-c5fdb4345c5a",
   "metadata": {},
   "outputs": [
    {
     "data": {
      "text/plain": [
       "device(type='cuda')"
      ]
     },
     "execution_count": 4,
     "metadata": {},
     "output_type": "execute_result"
    }
   ],
   "source": [
    "device = torch.device(\"cuda\" if torch.cuda.is_available() else \"cpu\")\n",
    "device"
   ]
  },
  {
   "cell_type": "markdown",
   "id": "422fa061-629f-46cb-b3df-99a9c7afbcde",
   "metadata": {},
   "source": [
    "# Load train and validation data "
   ]
  },
  {
   "cell_type": "markdown",
   "id": "2d8d49f5-728e-4e94-b2a9-b612e88a05e3",
   "metadata": {},
   "source": [
    "grape - f\n",
    "crump - f\n",
    "pea_(food) - c\n",
    "peach - c\n",
    "apricot - r\n",
    "crouton - r"
   ]
  },
  {
   "cell_type": "code",
   "execution_count": 5,
   "id": "39685c2e-8366-47b5-9e5b-6b40e2d8c012",
   "metadata": {},
   "outputs": [
    {
     "name": "stdout",
     "output_type": "stream",
     "text": [
      "classes : {1: 'apricot', 2: 'crouton', 3: 'crumb', 4: 'grape', 5: 'pea_(food)', 6: 'peach'}\n",
      "loaded 628 positive set images\n",
      "loaded 0 negative set images\n",
      "loaded 341 non-exhaustive set images\n",
      "Loaded 287 images!\n",
      "class 1 has 10 positive and 0 negative images\n",
      "class 2 has 7 positive and 0 negative images\n",
      "class 3 has 101 positive and 0 negative images\n",
      "class 4 has 101 positive and 0 negative images\n",
      "class 5 has 31 positive and 0 negative images\n",
      "class 6 has 47 positive and 0 negative images\n",
      "3283 annotations found!\n",
      "stage:  train\n",
      "classes:  {'apricot': 14, 'crouton': 331, 'crumb': 338, 'grape': 510, 'pea_(food)': 773, 'peach': 774}\n",
      "ds_path:  ../Datasets/coco/\n",
      "labels_f:  ../Datasets/coco/annotations/lvis_v1_train.json\n",
      "imgs_dir:  ../Datasets/coco/images/train2017\n",
      "Time taken to initialize train set: 31.183522939682007\n"
     ]
    }
   ],
   "source": [
    "time_start = time.time()\n",
    "\n",
    "data_args = {'stage': 'train',\n",
    "            'classes': ['grape', 'crumb', 'pea_(food)', 'peach', 'apricot', 'crouton'],\n",
    "             #['cowboy_hat', 'coffee_maker', 'monkey', 'cappuccino', 'drumstick', 'chessboard'], # ['drumstick'],#'sofa'], #, 'signboard'],\n",
    "            'ds_path' : \"../Datasets/coco/\",\n",
    "            'labels_dir': \"annotations\",\n",
    "            'images_dir': 'images',\n",
    "             'height' : 480,\n",
    "             'width' : 640,\n",
    "            'max_negative' : 0}\n",
    "train_data = dataset_lvis.LVISData(**data_args)\n",
    "\n",
    "print(f'Time taken to initialize train set: {time.time()-time_start}')"
   ]
  },
  {
   "cell_type": "markdown",
   "id": "7965951b-bfb1-48e8-8deb-c320b8d98b2f",
   "metadata": {},
   "source": [
    "### Split train set into custom train val set\n",
    "\n",
    "Validation set reserved for testing\n",
    "\n",
    "Check that we don't have too many of the rare cases in validation set - if so then there won't be much data to actually train on."
   ]
  },
  {
   "cell_type": "code",
   "execution_count": 7,
   "id": "ec426e15-a300-45cf-8d66-ee6dc4ffdd5e",
   "metadata": {},
   "outputs": [
    {
     "data": {
      "text/plain": [
       "{1: 0, 2: 0, 3: 55, 4: 198, 5: 79, 6: 27}"
      ]
     },
     "execution_count": 7,
     "metadata": {},
     "output_type": "execute_result"
    }
   ],
   "source": [
    "# what images have what classes?\n",
    "g_cpu = torch.Generator()\n",
    "g_cpu.manual_seed(42)\n",
    "\n",
    "#Split dataset to test and train\n",
    "indices = torch.randperm(len(train_data), generator=g_cpu).tolist()\n",
    "\n",
    "\n",
    "dataset_train = torch.utils.data.Subset(train_data, indices[:260])\n",
    "dataset_val = torch.utils.data.Subset(train_data, indices[260:])\n",
    "\n",
    "\n",
    "class_counts = dict(zip(range(1,7), [0]*6))\n",
    "for _, _, y in dataset_val:\n",
    "    for label in y['labels']:\n",
    "        class_counts[label.item()] += 1\n",
    "            \n",
    "class_counts"
   ]
  },
  {
   "cell_type": "markdown",
   "id": "5aed89f8-a249-4680-bc8a-e39015c2c63d",
   "metadata": {},
   "source": [
    "## Prepare test set\n",
    "\n",
    "The LVIS validation set is reserved for our test set"
   ]
  },
  {
   "cell_type": "code",
   "execution_count": 8,
   "id": "754ea837-6704-449b-a0b3-c5768d1b453f",
   "metadata": {},
   "outputs": [
    {
     "name": "stdout",
     "output_type": "stream",
     "text": [
      "classes : {1: 'apricot', 2: 'crouton', 3: 'crumb', 4: 'grape', 5: 'pea_(food)', 6: 'peach'}\n",
      "loaded 117 positive set images\n",
      "loaded 887 negative set images\n",
      "loaded 59 non-exhaustive set images\n",
      "Loaded 942 images!\n",
      "class 1 has 0 positive and 119 negative images\n",
      "class 2 has 3 positive and 140 negative images\n",
      "class 3 has 18 positive and 124 negative images\n",
      "class 4 has 22 positive and 174 negative images\n",
      "class 5 has 7 positive and 181 negative images\n",
      "class 6 has 9 positive and 169 negative images\n",
      "791 annotations found!\n",
      "stage:  val\n",
      "classes:  {'apricot': 14, 'crouton': 331, 'crumb': 338, 'grape': 510, 'pea_(food)': 773, 'peach': 774}\n",
      "ds_path:  ../Datasets/coco/\n",
      "labels_f:  ../Datasets/coco/annotations/lvis_v1_val.json\n",
      "imgs_dir:  ../Datasets/coco/images/train2017\n",
      "Time taken to initialize val set: 3.691948175430298\n"
     ]
    }
   ],
   "source": [
    "time_start = time.time() \n",
    "data_args = {'stage': 'val',\n",
    "            'classes':  ['grape', 'crumb', 'pea_(food)', 'peach', 'apricot', 'crouton'],\n",
    "            'ds_path' : \"../Datasets/coco/\",\n",
    "            'labels_dir': \"annotations\",\n",
    "            'images_dir': 'images',\n",
    "             'height' : 480,\n",
    "             'width' : 640,\n",
    "            'max_negative' : 200}   # note that we include negative sets for the testing\n",
    "val_data = dataset_lvis.LVISData(**data_args)\n",
    "print(f'Time taken to initialize val set: {time.time()-time_start}')"
   ]
  },
  {
   "cell_type": "markdown",
   "id": "cf5210fb-ba67-46c9-a72d-2f93d89e672f",
   "metadata": {},
   "source": [
    "# Fine-tuning the model\n",
    "\n",
    "Here we set `pretrained = True` for the FPN: FPN is pre-trained on coco dataset. We keep the backbone ResNet50 pretrained on ImageNet."
   ]
  },
  {
   "cell_type": "code",
   "execution_count": 9,
   "id": "ed773c6d-3902-44ff-b2f0-05ff0245ef83",
   "metadata": {},
   "outputs": [],
   "source": [
    "def get_instance_segmentation_model(num_classes):\n",
    "    # load an instance segmentation model pre-trained on COCO\n",
    "    anchor_generator = AnchorGenerator(sizes=((16, 32, 64, 128),),\n",
    "                                   aspect_ratios=((0.5, 1.0, 2.0),))\n",
    "    \n",
    "    backbone = torchvision.models.resnet50(pretrained = True)\n",
    "    modules = list(backbone.children())[:-2]\n",
    "    backbone = nn.Sequential(*modules)\n",
    "    backbone.out_channels = 2048\n",
    "\n",
    "    \n",
    "    model = MaskRCNN(backbone,  num_classes=num_classes, rpn_anchor_generator=anchor_generator)\n",
    "    \n",
    "\n",
    "    return model"
   ]
  },
  {
   "cell_type": "markdown",
   "id": "41364461-6867-4f49-aa53-177da9f90eb2",
   "metadata": {},
   "source": [
    "# Set up DataLoaders"
   ]
  },
  {
   "cell_type": "code",
   "execution_count": 10,
   "id": "8ff5ce4e-729b-49b4-a1e0-28d48fc9049f",
   "metadata": {},
   "outputs": [],
   "source": [
    "\n",
    "train_loader = torch.utils.data.DataLoader(\n",
    " dataset_train, batch_size=5, shuffle=True, #num_workers=4,\n",
    " collate_fn=helper.CollateCustom())\n",
    "\n",
    "val_loader = torch.utils.data.DataLoader(\n",
    " dataset_val, batch_size=5, shuffle=True, #num_workers=4,\n",
    " collate_fn=helper.CollateCustom())\n"
   ]
  },
  {
   "cell_type": "markdown",
   "id": "af324036-b825-4573-a784-343b9dbb3a47",
   "metadata": {},
   "source": [
    "# Initialize Model + Model params"
   ]
  },
  {
   "cell_type": "code",
   "execution_count": 11,
   "id": "d139c611-3d48-4c57-8147-9fa50f2bee2f",
   "metadata": {},
   "outputs": [],
   "source": [
    "device = torch.device('cuda') if torch.cuda.is_available() else torch.device('cpu')\n",
    "\n",
    "# our dataset has 7 classes - background and 6 specified objects\n",
    "num_classes = 7\n",
    "\n",
    "# get the model using our helper function\n",
    "model = get_instance_segmentation_model(num_classes)\n",
    "# move model to the right device\n",
    "model.to(device)\n",
    "\n",
    "# construct an optimizer\n",
    "params = [p for p in model.parameters() if p.requires_grad]\n",
    "optimizer = torch.optim.SGD(params, lr=0.005,\n",
    "                            momentum=0.9, weight_decay=0.0005)\n",
    "\n",
    "# and a learning rate scheduler which decreases the learning rate by\n",
    "# 10x every 3 epochs\n",
    "lr_scheduler = torch.optim.lr_scheduler.StepLR(optimizer, step_size=3, gamma=0.1)"
   ]
  },
  {
   "cell_type": "markdown",
   "id": "5d532151-671e-4846-aa83-34678660c4b7",
   "metadata": {},
   "source": [
    "# Train Model"
   ]
  },
  {
   "cell_type": "code",
   "execution_count": 12,
   "id": "e034c2c8-91f2-4546-84ea-b3f0085c75bd",
   "metadata": {},
   "outputs": [
    {
     "name": "stderr",
     "output_type": "stream",
     "text": [
      "/opt/conda/lib/python3.8/site-packages/torch/nn/functional.py:718: UserWarning: Named tensors and all their associated APIs are an experimental feature and subject to change. Please do not use them for anything important until they are released as stable. (Triggered internally at  ../c10/core/TensorImpl.h:1153.)\n",
      "  return torch.max_pool2d(input, kernel_size, stride, padding, dilation, ceil_mode)\n"
     ]
    },
    {
     "name": "stdout",
     "output_type": "stream",
     "text": [
      "Training loss after 0 epochs: 70.60594779253006\n",
      "Validation loss after 0 epochs: 7.14564061164856\n",
      "Time elapsed for 0 epochs: 60.281275510787964\n",
      "Saved checkpoint model_0_epochs.pth!\n",
      "Time elapsed after 0 epochs: 65.08084154129028\n",
      "Training loss after 1 epochs: 54.32654565572739\n",
      "Validation loss after 1 epochs: 6.591549098491669\n",
      "Time elapsed for 1 epochs: 124.28216314315796\n",
      "Training loss after 2 epochs: 52.936602890491486\n",
      "Validation loss after 2 epochs: 6.958955228328705\n",
      "Time elapsed for 2 epochs: 184.49944877624512\n",
      "Training loss after 3 epochs: 52.63424861431122\n",
      "Validation loss after 3 epochs: 7.066665291786194\n",
      "Time elapsed for 3 epochs: 244.28702783584595\n",
      "Training loss after 4 epochs: 51.5463644862175\n",
      "Validation loss after 4 epochs: 7.149017512798309\n",
      "Time elapsed for 4 epochs: 304.2700786590576\n",
      "Training loss after 5 epochs: 49.95374143123627\n",
      "Validation loss after 5 epochs: 7.04688823223114\n",
      "Time elapsed for 5 epochs: 364.99041199684143\n",
      "Saved checkpoint model_5_epochs.pth!\n",
      "Time elapsed after 5 epochs: 370.48937463760376\n",
      "Training loss after 6 epochs: 47.89679163694382\n",
      "Validation loss after 6 epochs: 7.684632062911987\n",
      "Time elapsed for 6 epochs: 430.6666088104248\n",
      "Training loss after 7 epochs: 46.761236011981964\n",
      "Validation loss after 7 epochs: 6.917629301548004\n",
      "Time elapsed for 7 epochs: 491.4353153705597\n",
      "Training loss after 8 epochs: 45.09411770105362\n",
      "Validation loss after 8 epochs: 7.3474273681640625\n",
      "Time elapsed for 8 epochs: 551.689076423645\n",
      "Training loss after 9 epochs: 44.26679652929306\n",
      "Validation loss after 9 epochs: 6.615093648433685\n",
      "Time elapsed for 9 epochs: 612.8795051574707\n",
      "Training loss after 10 epochs: 43.349384129047394\n",
      "Validation loss after 10 epochs: 7.673153758049011\n",
      "Time elapsed for 10 epochs: 673.6857047080994\n",
      "Saved checkpoint model_10_epochs.pth!\n",
      "Time elapsed after 10 epochs: 677.6987261772156\n",
      "Training loss after 11 epochs: 42.300640642642975\n",
      "Validation loss after 11 epochs: 7.5855355858802795\n",
      "Time elapsed for 11 epochs: 738.9733397960663\n",
      "Training loss after 12 epochs: 41.42757362127304\n",
      "Validation loss after 12 epochs: 6.884354591369629\n",
      "Time elapsed for 12 epochs: 800.1827387809753\n",
      "Training loss after 13 epochs: 39.81345868110657\n",
      "Validation loss after 13 epochs: 7.000422537326813\n",
      "Time elapsed for 13 epochs: 862.0725400447845\n",
      "Training loss after 14 epochs: 39.00584855675697\n",
      "Validation loss after 14 epochs: 7.151674509048462\n",
      "Time elapsed for 14 epochs: 923.7784161567688\n",
      "Training loss after 15 epochs: 37.91724947094917\n",
      "Validation loss after 15 epochs: 6.853324234485626\n",
      "Time elapsed for 15 epochs: 985.5383508205414\n",
      "Saved checkpoint model_15_epochs.pth!\n",
      "Time elapsed after 15 epochs: 989.5451748371124\n",
      "Training loss after 16 epochs: 36.932866275310516\n",
      "Validation loss after 16 epochs: 8.362156510353088\n",
      "Time elapsed for 16 epochs: 1050.655308008194\n",
      "Training loss after 17 epochs: 36.59183105826378\n",
      "Validation loss after 17 epochs: 7.498162388801575\n",
      "Time elapsed for 17 epochs: 1112.157232284546\n",
      "Training loss after 18 epochs: 36.19367417693138\n",
      "Validation loss after 18 epochs: 8.068482398986816\n",
      "Time elapsed for 18 epochs: 1173.5229353904724\n",
      "Training loss after 19 epochs: 35.26767173409462\n",
      "Validation loss after 19 epochs: 8.439021110534668\n",
      "Time elapsed for 19 epochs: 1235.0069298744202\n",
      "Training loss after 20 epochs: 34.52775093913078\n",
      "Validation loss after 20 epochs: 7.8672900795936584\n",
      "Time elapsed for 20 epochs: 1296.8180646896362\n",
      "Saved checkpoint model_20_epochs.pth!\n",
      "Time elapsed after 20 epochs: 1300.8121778964996\n",
      "Training loss after 21 epochs: 34.791729003190994\n",
      "Validation loss after 21 epochs: 7.702402353286743\n",
      "Time elapsed for 21 epochs: 1363.8297443389893\n",
      "Training loss after 22 epochs: 33.683008313179016\n",
      "Validation loss after 22 epochs: 7.533496379852295\n",
      "Time elapsed for 22 epochs: 1426.9503898620605\n",
      "Training loss after 23 epochs: 33.557256042957306\n",
      "Validation loss after 23 epochs: 7.379601955413818\n",
      "Time elapsed for 23 epochs: 1490.3635852336884\n",
      "Training loss after 24 epochs: 32.341476798057556\n",
      "Validation loss after 24 epochs: 8.541572988033295\n",
      "Time elapsed for 24 epochs: 1554.10675573349\n",
      "Training loss after 25 epochs: 32.10408470034599\n",
      "Validation loss after 25 epochs: 8.123079895973206\n",
      "Time elapsed for 25 epochs: 1617.1835935115814\n",
      "Saved checkpoint model_25_epochs.pth!\n",
      "Time elapsed after 25 epochs: 1621.1638646125793\n",
      "Training loss after 26 epochs: 31.157616287469864\n",
      "Validation loss after 26 epochs: 9.550063371658325\n",
      "Time elapsed for 26 epochs: 1683.7926049232483\n",
      "Training loss after 27 epochs: 31.845110088586807\n",
      "Validation loss after 27 epochs: 9.286200821399689\n",
      "Time elapsed for 27 epochs: 1746.732477903366\n",
      "Training loss after 28 epochs: 31.692833214998245\n",
      "Validation loss after 28 epochs: 7.6014158725738525\n",
      "Time elapsed for 28 epochs: 1809.550503730774\n",
      "Training loss after 29 epochs: 31.412456661462784\n",
      "Validation loss after 29 epochs: 8.274948239326477\n",
      "Time elapsed for 29 epochs: 1872.5817732810974\n",
      "Training loss after 30 epochs: 30.018624663352966\n",
      "Validation loss after 30 epochs: 9.082616806030273\n",
      "Time elapsed for 30 epochs: 1935.6656234264374\n",
      "Saved checkpoint model_30_epochs.pth!\n",
      "Time elapsed after 30 epochs: 1939.613109111786\n",
      "Saved model model.pth!\n",
      "Time elapsed for 31 epochs: 32.37 min\n"
     ]
    }
   ],
   "source": [
    "num_epochs = 31\n",
    "time_start = time.time() \n",
    "\n",
    "\n",
    "train_loss_df = pd.DataFrame(columns = ['epoch', 'loss_classifier', 'loss_box_reg', 'loss_mask', 'loss_objectness', 'loss_rpn_box_reg', 'total_loss'])\n",
    "val_loss_df = pd.DataFrame(columns = ['epoch', 'loss_classifier', 'loss_box_reg', 'loss_mask', 'loss_objectness', 'loss_rpn_box_reg', 'total_loss'])\n",
    "\n",
    "loss_types = ['loss_classifier', 'loss_box_reg', 'loss_mask', 'loss_objectness', 'loss_rpn_box_reg', 'total_loss']\n",
    "\n",
    "\n",
    "for epoch in range(num_epochs):\n",
    "    model.train()\n",
    "    \n",
    "    train_loss = dict.fromkeys(loss_types, 0) \n",
    "    val_loss = dict.fromkeys(loss_types, 0) \n",
    "    \n",
    "    \"\"\"\n",
    "    Train \n",
    "    \"\"\"\n",
    "    for batch_num, (idx, X, y) in enumerate(train_loader):\n",
    "        #print(idx)\n",
    "        X = X.to(device)\n",
    "        y = [{k: v.to(device) for k, v in t.items()} for t in y]\n",
    "        \n",
    "        loss_dict = model(X, y) \n",
    "        \n",
    "        losses = sum(loss for loss in loss_dict.values())\n",
    "        \n",
    "        #save losses\n",
    "        for key in loss_types:\n",
    "            if key != 'total_loss':\n",
    "                train_loss[key] += loss_dict[key].item()\n",
    "            else: \n",
    "                train_loss['total_loss'] += losses.item()\n",
    "                \n",
    "\n",
    "        optimizer.zero_grad()\n",
    "        losses.backward()\n",
    "        optimizer.step()\n",
    "        \n",
    "    row = pd.DataFrame({'epoch': [epoch],\n",
    "          'loss_classifier': [train_loss['loss_classifier']/(batch_num+1)],\n",
    "          'loss_box_reg' : [train_loss['loss_box_reg']/(batch_num+1)],\n",
    "           'loss_mask': [train_loss['loss_mask']/(batch_num+1)],\n",
    "           'loss_objectness': [train_loss['loss_objectness']/(batch_num+1)],\n",
    "           'loss_rpn_box_reg': [train_loss['loss_rpn_box_reg']/(batch_num+1)],\n",
    "            'total_loss': [train_loss['total_loss']/(batch_num+1)] \n",
    "          })     \n",
    "\n",
    "    train_loss_df = pd.concat([train_loss_df, row], ignore_index = True, axis = 0)\n",
    "    \n",
    "    print(f\"Training loss after {epoch} epochs: {train_loss['total_loss']}\")\n",
    "\n",
    "    \n",
    "    \"\"\"\n",
    "    Validation\n",
    "    \"\"\"\n",
    "    with torch.no_grad():\n",
    "        for batch_num, (idx, X, y) in enumerate(val_loader):\n",
    "            #X = X.to(device)\n",
    "            X = list(image.to(device) for image in X)\n",
    "            y = [{k: v.to(device) for k, v in t.items()} for t in y]\n",
    "\n",
    "            loss_dict = model(X, y) \n",
    "            \n",
    "            losses_val = sum(loss for loss in loss_dict.values())\n",
    "            \n",
    "            #save losses\n",
    "            for key in loss_types:\n",
    "                if key != 'total_loss':\n",
    "                    val_loss[key] += loss_dict[key].item()\n",
    "                else: \n",
    "                    val_loss['total_loss'] += losses_val.item()\n",
    "                    \n",
    "        row = pd.DataFrame({'epoch': [epoch],\n",
    "                          'loss_classifier': [val_loss['loss_classifier']/(batch_num+1)],\n",
    "                          'loss_box_reg' : [val_loss['loss_box_reg']/(batch_num+1)],\n",
    "                           'loss_mask': [val_loss['loss_mask']/(batch_num+1)],\n",
    "                           'loss_objectness': [val_loss['loss_objectness']/(batch_num+1)],\n",
    "                           'loss_rpn_box_reg': [val_loss['loss_rpn_box_reg']/(batch_num+1)],\n",
    "                            'total_loss': [val_loss['total_loss']/(batch_num+1)] \n",
    "                          })\n",
    "        val_loss_df = pd.concat([val_loss_df, row], ignore_index = True, axis = 0)\n",
    "\n",
    "    print(f\"Validation loss after {epoch} epochs: {val_loss['total_loss']}\") \n",
    "    print(f'Time elapsed for {epoch} epochs: {time.time()-time_start}') \n",
    "\n",
    "      \n",
    "    \"\"\"\n",
    "    Save checkpoints and losses every 5 epoch\n",
    "    \"\"\"\n",
    "    if epoch%5 == 0: \n",
    "        checkpoint = {\"state_dict\": model.state_dict(),\n",
    "                        \"optimizer\": optimizer.state_dict(),\n",
    "                        \"step\": epoch,\n",
    "                        \"ds_args\" : data_args\n",
    "                        }\n",
    "        fname = \"model_\" + str(epoch) + \"_epochs.pth\"\n",
    "        helper.save_checkpoint(checkpoint, fname)\n",
    "        print(f'Time elapsed after {epoch} epochs: {time.time()-time_start}')  \n",
    "        val_loss_df.to_csv(Path.cwd().parent.joinpath(\"val_loss.csv\"))\n",
    "        train_loss_df.to_csv(Path.cwd().parent.joinpath(\"train_loss.csv\"))\n",
    "\n",
    "    \n",
    "    \n",
    "    #for final epoch \n",
    "    if epoch == num_epochs-1: \n",
    "        helper.save_model(model.state_dict(), \"model.pth\")\n",
    "        val_loss_df.to_csv(Path.cwd().parent.joinpath(\"val_loss.csv\"))\n",
    "        train_loss_df.to_csv(Path.cwd().parent.joinpath(\"train_loss.csv\"))\n",
    "    \n",
    "    \n",
    "    \n",
    "print(f\"Time elapsed for {epoch+1} epochs: {round((time.time()-time_start)/60, 2)} min\")"
   ]
  },
  {
   "cell_type": "markdown",
   "id": "d84a9cfa-912a-4885-962c-7f7dc807ccde",
   "metadata": {},
   "source": [
    "# Plot loss "
   ]
  },
  {
   "cell_type": "code",
   "execution_count": 13,
   "id": "96f98a05-d7e5-422a-a34e-6f2a9dece363",
   "metadata": {},
   "outputs": [
    {
     "data": {
      "text/plain": [
       "<AxesSubplot:>"
      ]
     },
     "execution_count": 13,
     "metadata": {},
     "output_type": "execute_result"
    },
    {
     "data": {
      "image/png": "[encoded data removed]",
      "text/plain": [
       "<Figure size 432x288 with 1 Axes>"
      ]
     },
     "metadata": {
      "needs_background": "light"
     },
     "output_type": "display_data"
    }
   ],
   "source": [
    "new_df = pd.DataFrame() \n",
    "#new_df['epoch'] = train_loss_df['epoch'] \n",
    "new_df['train_loss'] = train_loss_df['total_loss'] \n",
    "new_df['val_loss'] = val_loss_df['total_loss'] \n",
    "\n",
    "sns.lineplot(data = new_df[1:])\n",
    "#new_df\n"
   ]
  },
  {
   "cell_type": "markdown",
   "id": "fef09e8e-7c71-4ef7-b36a-e4711d18cdd3",
   "metadata": {},
   "source": [
    "# Calculate mAP on train set\n"
   ]
  },
  {
   "cell_type": "code",
   "execution_count": 14,
   "id": "a26c9f59-547d-4005-97d4-ae5913053af7",
   "metadata": {},
   "outputs": [
    {
     "data": {
      "text/plain": [
       "<module 'src.metrics' from '/home/INM705/INM705_CW_Collins_Velagala/notebooks/../src/metrics.py'>"
      ]
     },
     "execution_count": 14,
     "metadata": {},
     "output_type": "execute_result"
    }
   ],
   "source": [
    "importlib.reload(metrics)"
   ]
  },
  {
   "cell_type": "code",
   "execution_count": 15,
   "id": "89b2e581-a854-41ec-93c3-7e8c2a7cc3e7",
   "metadata": {},
   "outputs": [
    {
     "name": "stdout",
     "output_type": "stream",
     "text": [
      "Loaded from model model.pth!\n"
     ]
    }
   ],
   "source": [
    "num_classes = 7\n",
    "\n",
    "#model setup \n",
    "model = get_instance_segmentation_model(num_classes)\n",
    "model.to(device)\n",
    "\n",
    "helper.load_model(model, 'model.pth')\n"
   ]
  },
  {
   "cell_type": "code",
   "execution_count": 16,
   "id": "64f7779d-01a7-47e8-b48e-1edf6a713bda",
   "metadata": {},
   "outputs": [],
   "source": [
    "train_loader = torch.utils.data.DataLoader(\n",
    " dataset_train, batch_size=1, shuffle=True, #num_workers=4,\n",
    " collate_fn=helper.CollateCustom())"
   ]
  },
  {
   "cell_type": "code",
   "execution_count": 17,
   "id": "3ab21fbb-26e5-473e-b353-487a7608b772",
   "metadata": {},
   "outputs": [],
   "source": [
    "#mAP but not calculated as per fed set since there's no negative set \n",
    "pred_boxes =[]\n",
    "gt =[] \n",
    "\n",
    "for idx,X, y in train_loader:\n",
    "    model.eval()\n",
    "    y_pred = model(X.to(device)) \n",
    "    pred_boxes, gt = metrics.store_preds(idx, y, y_pred, pred_boxes, gt)"
   ]
  },
  {
   "cell_type": "code",
   "execution_count": 21,
   "id": "e3305c2a-52e0-46f5-8a39-73e59abb060f",
   "metadata": {},
   "outputs": [],
   "source": [
    "mAP_list = [] \n",
    "ap_list = []\n",
    "\n",
    "thresholds= np.arange(0.5, 1, 0.05) #0.5 -0.95\n",
    "for iou_thres in thresholds:\n",
    "    mAP, AP = metrics.calculate_ap(pred_boxes, gt, train_data.class_datasets, iou_threshold = iou_thres)\n",
    "    mAP_list.append(mAP) \n",
    "    ap_list.append(AP)"
   ]
  },
  {
   "cell_type": "code",
   "execution_count": 22,
   "id": "de6f09a0-42d1-414c-9370-32941edb0a4b",
   "metadata": {},
   "outputs": [
    {
     "name": "stdout",
     "output_type": "stream",
     "text": [
      "{1: 'apricot', 2: 'crouton', 3: 'crumb', 4: 'grape', 5: 'pea_(food)', 6: 'peach'}\n"
     ]
    }
   ],
   "source": [
    "class_names = {} \n",
    "for key, val in train_data.class_idx_map.items() :\n",
    "    for k, v in train_data.classes.items():\n",
    "        if key == v:\n",
    "            class_names[val] = k\n",
    "print(class_names)\n",
    "    "
   ]
  },
  {
   "cell_type": "markdown",
   "id": "3b1119fc-575c-4bf8-89a9-fbfe3244f2ba",
   "metadata": {},
   "source": [
    "## Average Precision"
   ]
  },
  {
   "cell_type": "code",
   "execution_count": 23,
   "id": "eb79b8ff-7f48-4a76-8427-d501b5f4bf22",
   "metadata": {},
   "outputs": [
    {
     "data": {
      "text/plain": [
       "[Text(0.5, 1.0, 'Average Precision by IOU Threshold (train)')]"
      ]
     },
     "execution_count": 23,
     "metadata": {},
     "output_type": "execute_result"
    },
    {
     "data": {
      "image/png": "[encoded data removed]",
      "text/plain": [
       "<Figure size 432x288 with 1 Axes>"
      ]
     },
     "metadata": {
      "needs_background": "light"
     },
     "output_type": "display_data"
    }
   ],
   "source": [
    "df_AP = pd.DataFrame(columns = [\"iou_thres\", \"class_name\", \"AP\"])\n",
    "\n",
    "for idx, class_aps in enumerate(ap_list):\n",
    "    iou_thres = thresholds[idx]\n",
    "    for key, val in class_aps.items():\n",
    "        class_name = class_names[key] \n",
    "\n",
    "        row = pd.DataFrame({\"iou_thres\": [iou_thres],\n",
    "               \"class_name\": [class_name],\n",
    "               \"AP\": [val.item()]\n",
    "              })\n",
    "        df_AP = pd.concat([df_AP, row], axis = 0, ignore_index = True)\n",
    "        \n",
    "df_AP.head()\n",
    "sns.lineplot(data= df_AP, x=\"iou_thres\", y=\"AP\", hue = \"class_name\").set(title=\"Average Precision by IOU Threshold (train)\")"
   ]
  },
  {
   "cell_type": "markdown",
   "id": "ccf7d4cf-afea-468a-a434-885e3f13ce84",
   "metadata": {},
   "source": [
    "## mean Average Precision "
   ]
  },
  {
   "cell_type": "code",
   "execution_count": 24,
   "id": "b0c15c09-dc2c-4757-9797-809df74afadd",
   "metadata": {},
   "outputs": [
    {
     "data": {
      "text/plain": [
       "[Text(0.5, 1.0, 'mAP (train)')]"
      ]
     },
     "execution_count": 24,
     "metadata": {},
     "output_type": "execute_result"
    },
    {
     "data": {
      "image/png": "[encoded data removed]",
      "text/plain": [
       "<Figure size 432x288 with 1 Axes>"
      ]
     },
     "metadata": {
      "needs_background": "light"
     },
     "output_type": "display_data"
    }
   ],
   "source": [
    "df_mAP = pd.DataFrame(columns = [\"iou_thres\", \"mAP\"])\n",
    "\n",
    "for idx, mAP in enumerate(mAP_list):\n",
    "    row = pd.DataFrame({\"iou_thres\":[thresholds[idx]],\n",
    "                        \"mAP\": [mAP_list[idx].item()]})\n",
    "    df_mAP = pd.concat([df_mAP, row], axis = 0, ignore_index = True) \n",
    "    \n",
    "#df_mAP    \n",
    "    \n",
    "sns.lineplot(data = df_mAP, x =\"iou_thres\", y=\"mAP\").set(title = \"mAP (train)\")"
   ]
  },
  {
   "cell_type": "markdown",
   "id": "60d71502-8b3b-4d2c-9aeb-37efd5c2414e",
   "metadata": {},
   "source": [
    "# Calculate mAP on test set"
   ]
  },
  {
   "cell_type": "code",
   "execution_count": 25,
   "id": "504f818c-4017-472b-83ef-49c09067d622",
   "metadata": {},
   "outputs": [],
   "source": [
    "test_loader = torch.utils.data.DataLoader(\n",
    " val_data, batch_size=1, shuffle=True, #num_workers=4,\n",
    " collate_fn=helper.CollateCustom())\n"
   ]
  },
  {
   "cell_type": "code",
   "execution_count": 26,
   "id": "49cfaca4-1cd8-4189-bea6-512a2cf7e834",
   "metadata": {},
   "outputs": [],
   "source": [
    "pred_boxes =[]\n",
    "gt =[] \n",
    "\n",
    "for idx,X, y in test_loader:\n",
    "    model.eval()\n",
    "    y_pred = model(X.to(device)) \n",
    "    pred_boxes, gt = metrics.store_preds(idx, y, y_pred, pred_boxes, gt)"
   ]
  },
  {
   "cell_type": "code",
   "execution_count": 28,
   "id": "c6116f24-8ab3-4546-9126-a23d4e476566",
   "metadata": {},
   "outputs": [],
   "source": [
    "mAP_list = [] \n",
    "ap_list = []\n",
    "\n",
    "thresholds= np.arange(0.5, 1, 0.05) #0.5 -0.95\n",
    "for iou_thres in thresholds:\n",
    "    mAP, AP = metrics.calculate_ap(pred_boxes, gt, iou_threshold = iou_thres, class_datasets = val_data.class_datasets)\n",
    "    mAP_list.append(mAP) \n",
    "    ap_list.append(AP)"
   ]
  },
  {
   "cell_type": "code",
   "execution_count": 29,
   "id": "293e55ff-9490-4366-a193-11fff2eb5133",
   "metadata": {},
   "outputs": [
    {
     "name": "stdout",
     "output_type": "stream",
     "text": [
      "{1: 'apricot', 2: 'crouton', 3: 'crumb', 4: 'grape', 5: 'pea_(food)', 6: 'peach'}\n"
     ]
    }
   ],
   "source": [
    "class_names = {} \n",
    "for key, val in val_data.class_idx_map.items() :\n",
    "    for k, v in val_data.classes.items():\n",
    "        if key == v:\n",
    "            class_names[val] = k\n",
    "print(class_names)\n",
    "    "
   ]
  },
  {
   "cell_type": "markdown",
   "id": "5f738c5d-4edc-4b0f-86dd-80acb1f2e6be",
   "metadata": {},
   "source": [
    "## calculate AP on train set"
   ]
  },
  {
   "cell_type": "code",
   "execution_count": 30,
   "id": "89348d29-eb17-41a6-b4e3-0a0fe708afd5",
   "metadata": {},
   "outputs": [
    {
     "data": {
      "text/plain": [
       "[Text(0.5, 1.0, 'Average Precision by IOU Threshold')]"
      ]
     },
     "execution_count": 30,
     "metadata": {},
     "output_type": "execute_result"
    },
    {
     "data": {
      "image/png": "[encoded data removed]",
      "text/plain": [
       "<Figure size 432x288 with 1 Axes>"
      ]
     },
     "metadata": {
      "needs_background": "light"
     },
     "output_type": "display_data"
    }
   ],
   "source": [
    "df_AP = pd.DataFrame(columns = [\"iou_thres\", \"class_name\", \"AP\"])\n",
    "\n",
    "for idx, class_aps in enumerate(ap_list):\n",
    "    iou_thres = thresholds[idx]\n",
    "    for key, val in class_aps.items():\n",
    "        class_name = class_names[key] \n",
    "\n",
    "        row = pd.DataFrame({\"iou_thres\": [iou_thres],\n",
    "               \"class_name\": [class_name],\n",
    "               \"AP\": [val.item()]\n",
    "              })\n",
    "        df_AP = pd.concat([df_AP, row], axis = 0, ignore_index = True)\n",
    "        \n",
    "df_AP.head()\n",
    "sns.lineplot(data= df_AP, x=\"iou_thres\", y=\"AP\", hue = \"class_name\").set(title=\"Average Precision by IOU Threshold\")"
   ]
  },
  {
   "cell_type": "code",
   "execution_count": null,
   "id": "1cf65d32-3d74-45ac-a48d-390238541ac8",
   "metadata": {},
   "outputs": [],
   "source": [
    "grape - f\n",
    "crump - f\n",
    "pea_(food) - c\n",
    "peach - c\n",
    "apricot - r\n",
    "crouton - r"
   ]
  },
  {
   "cell_type": "code",
   "execution_count": 31,
   "id": "24fca44d-6bf5-4634-9df9-34c48ada5969",
   "metadata": {},
   "outputs": [
    {
     "data": {
      "text/plain": [
       "[Text(0.5, 1.0, 'Average Precision by IOU Threshold')]"
      ]
     },
     "execution_count": 31,
     "metadata": {},
     "output_type": "execute_result"
    },
    {
     "data": {
      "image/png": "[encoded data removed]",
      "text/plain": [
       "<Figure size 432x288 with 1 Axes>"
      ]
     },
     "metadata": {
      "needs_background": "light"
     },
     "output_type": "display_data"
    }
   ],
   "source": [
    "class_frequency_dict = {'grape': 'frequent', 'crumb': 'frequent', 'pea_(food)': 'common', \n",
    "                        'peach': 'common', 'apricot': 'rare', 'crouton': 'rare'}\n",
    "\n",
    "\n",
    "#{'cappuccino': 'common', 'chessboard': 'rare',  'coffee_maker':'frequent', \n",
    "#                        'cowboy_hat':'frequent', 'drumstick':'rare', 'monkey':'common'}\n",
    "\n",
    "df_AP_freq = df_AP\n",
    "df_AP_freq['class_frequency'] = df_AP_freq['class_name'].map(class_frequency_dict)\n",
    "temp = df_AP_freq.groupby(by= [\"iou_thres\", \"class_frequency\"])['AP'].mean().reset_index()\n",
    "sns.lineplot(data= temp, x=\"iou_thres\", y=\"AP\", hue = \"class_frequency\").set(title=\"Average Precision by IOU Threshold\")"
   ]
  },
  {
   "cell_type": "code",
   "execution_count": 33,
   "id": "a1364aea-f05e-4923-95a1-037456b9caa6",
   "metadata": {},
   "outputs": [
    {
     "data": {
      "text/html": [
       "<div>\n",
       "<style scoped>\n",
       "    .dataframe tbody tr th:only-of-type {\n",
       "        vertical-align: middle;\n",
       "    }\n",
       "\n",
       "    .dataframe tbody tr th {\n",
       "        vertical-align: top;\n",
       "    }\n",
       "\n",
       "    .dataframe thead th {\n",
       "        text-align: right;\n",
       "    }\n",
       "</style>\n",
       "<table border=\"1\" class=\"dataframe\">\n",
       "  <thead>\n",
       "    <tr style=\"text-align: right;\">\n",
       "      <th></th>\n",
       "      <th>iou_thres</th>\n",
       "      <th>class_frequency</th>\n",
       "      <th>AP</th>\n",
       "    </tr>\n",
       "  </thead>\n",
       "  <tbody>\n",
       "    <tr>\n",
       "      <th>0</th>\n",
       "      <td>0.50</td>\n",
       "      <td>common</td>\n",
       "      <td>0.074664</td>\n",
       "    </tr>\n",
       "    <tr>\n",
       "      <th>1</th>\n",
       "      <td>0.50</td>\n",
       "      <td>frequent</td>\n",
       "      <td>0.078208</td>\n",
       "    </tr>\n",
       "    <tr>\n",
       "      <th>2</th>\n",
       "      <td>0.50</td>\n",
       "      <td>rare</td>\n",
       "      <td>0.000868</td>\n",
       "    </tr>\n",
       "    <tr>\n",
       "      <th>3</th>\n",
       "      <td>0.55</td>\n",
       "      <td>common</td>\n",
       "      <td>0.057605</td>\n",
       "    </tr>\n",
       "    <tr>\n",
       "      <th>4</th>\n",
       "      <td>0.55</td>\n",
       "      <td>frequent</td>\n",
       "      <td>0.075535</td>\n",
       "    </tr>\n",
       "    <tr>\n",
       "      <th>5</th>\n",
       "      <td>0.55</td>\n",
       "      <td>rare</td>\n",
       "      <td>0.000868</td>\n",
       "    </tr>\n",
       "    <tr>\n",
       "      <th>6</th>\n",
       "      <td>0.60</td>\n",
       "      <td>common</td>\n",
       "      <td>0.050552</td>\n",
       "    </tr>\n",
       "    <tr>\n",
       "      <th>7</th>\n",
       "      <td>0.60</td>\n",
       "      <td>frequent</td>\n",
       "      <td>0.068157</td>\n",
       "    </tr>\n",
       "    <tr>\n",
       "      <th>8</th>\n",
       "      <td>0.60</td>\n",
       "      <td>rare</td>\n",
       "      <td>0.000868</td>\n",
       "    </tr>\n",
       "    <tr>\n",
       "      <th>9</th>\n",
       "      <td>0.65</td>\n",
       "      <td>common</td>\n",
       "      <td>0.049243</td>\n",
       "    </tr>\n",
       "    <tr>\n",
       "      <th>10</th>\n",
       "      <td>0.65</td>\n",
       "      <td>frequent</td>\n",
       "      <td>0.054205</td>\n",
       "    </tr>\n",
       "    <tr>\n",
       "      <th>11</th>\n",
       "      <td>0.65</td>\n",
       "      <td>rare</td>\n",
       "      <td>0.000868</td>\n",
       "    </tr>\n",
       "    <tr>\n",
       "      <th>12</th>\n",
       "      <td>0.70</td>\n",
       "      <td>common</td>\n",
       "      <td>0.035509</td>\n",
       "    </tr>\n",
       "    <tr>\n",
       "      <th>13</th>\n",
       "      <td>0.70</td>\n",
       "      <td>frequent</td>\n",
       "      <td>0.029900</td>\n",
       "    </tr>\n",
       "    <tr>\n",
       "      <th>14</th>\n",
       "      <td>0.70</td>\n",
       "      <td>rare</td>\n",
       "      <td>0.000868</td>\n",
       "    </tr>\n",
       "    <tr>\n",
       "      <th>15</th>\n",
       "      <td>0.75</td>\n",
       "      <td>common</td>\n",
       "      <td>0.029905</td>\n",
       "    </tr>\n",
       "    <tr>\n",
       "      <th>16</th>\n",
       "      <td>0.75</td>\n",
       "      <td>frequent</td>\n",
       "      <td>0.020405</td>\n",
       "    </tr>\n",
       "    <tr>\n",
       "      <th>17</th>\n",
       "      <td>0.75</td>\n",
       "      <td>rare</td>\n",
       "      <td>0.000868</td>\n",
       "    </tr>\n",
       "    <tr>\n",
       "      <th>18</th>\n",
       "      <td>0.80</td>\n",
       "      <td>common</td>\n",
       "      <td>0.026195</td>\n",
       "    </tr>\n",
       "    <tr>\n",
       "      <th>19</th>\n",
       "      <td>0.80</td>\n",
       "      <td>frequent</td>\n",
       "      <td>0.008376</td>\n",
       "    </tr>\n",
       "    <tr>\n",
       "      <th>20</th>\n",
       "      <td>0.80</td>\n",
       "      <td>rare</td>\n",
       "      <td>0.000868</td>\n",
       "    </tr>\n",
       "    <tr>\n",
       "      <th>21</th>\n",
       "      <td>0.85</td>\n",
       "      <td>common</td>\n",
       "      <td>0.010627</td>\n",
       "    </tr>\n",
       "    <tr>\n",
       "      <th>22</th>\n",
       "      <td>0.85</td>\n",
       "      <td>frequent</td>\n",
       "      <td>0.005655</td>\n",
       "    </tr>\n",
       "    <tr>\n",
       "      <th>23</th>\n",
       "      <td>0.85</td>\n",
       "      <td>rare</td>\n",
       "      <td>0.000000</td>\n",
       "    </tr>\n",
       "    <tr>\n",
       "      <th>24</th>\n",
       "      <td>0.90</td>\n",
       "      <td>common</td>\n",
       "      <td>0.000070</td>\n",
       "    </tr>\n",
       "    <tr>\n",
       "      <th>25</th>\n",
       "      <td>0.90</td>\n",
       "      <td>frequent</td>\n",
       "      <td>0.000584</td>\n",
       "    </tr>\n",
       "    <tr>\n",
       "      <th>26</th>\n",
       "      <td>0.90</td>\n",
       "      <td>rare</td>\n",
       "      <td>0.000000</td>\n",
       "    </tr>\n",
       "    <tr>\n",
       "      <th>27</th>\n",
       "      <td>0.95</td>\n",
       "      <td>common</td>\n",
       "      <td>0.000000</td>\n",
       "    </tr>\n",
       "    <tr>\n",
       "      <th>28</th>\n",
       "      <td>0.95</td>\n",
       "      <td>frequent</td>\n",
       "      <td>0.000073</td>\n",
       "    </tr>\n",
       "    <tr>\n",
       "      <th>29</th>\n",
       "      <td>0.95</td>\n",
       "      <td>rare</td>\n",
       "      <td>0.000000</td>\n",
       "    </tr>\n",
       "  </tbody>\n",
       "</table>\n",
       "</div>"
      ],
      "text/plain": [
       "    iou_thres class_frequency        AP\n",
       "0        0.50          common  0.074664\n",
       "1        0.50        frequent  0.078208\n",
       "2        0.50            rare  0.000868\n",
       "3        0.55          common  0.057605\n",
       "4        0.55        frequent  0.075535\n",
       "5        0.55            rare  0.000868\n",
       "6        0.60          common  0.050552\n",
       "7        0.60        frequent  0.068157\n",
       "8        0.60            rare  0.000868\n",
       "9        0.65          common  0.049243\n",
       "10       0.65        frequent  0.054205\n",
       "11       0.65            rare  0.000868\n",
       "12       0.70          common  0.035509\n",
       "13       0.70        frequent  0.029900\n",
       "14       0.70            rare  0.000868\n",
       "15       0.75          common  0.029905\n",
       "16       0.75        frequent  0.020405\n",
       "17       0.75            rare  0.000868\n",
       "18       0.80          common  0.026195\n",
       "19       0.80        frequent  0.008376\n",
       "20       0.80            rare  0.000868\n",
       "21       0.85          common  0.010627\n",
       "22       0.85        frequent  0.005655\n",
       "23       0.85            rare  0.000000\n",
       "24       0.90          common  0.000070\n",
       "25       0.90        frequent  0.000584\n",
       "26       0.90            rare  0.000000\n",
       "27       0.95          common  0.000000\n",
       "28       0.95        frequent  0.000073\n",
       "29       0.95            rare  0.000000"
      ]
     },
     "execution_count": 33,
     "metadata": {},
     "output_type": "execute_result"
    }
   ],
   "source": [
    "temp"
   ]
  },
  {
   "cell_type": "markdown",
   "id": "68915007-aa38-4b80-a338-a712eaccc561",
   "metadata": {},
   "source": [
    "## calculate mAP on train set"
   ]
  },
  {
   "cell_type": "code",
   "execution_count": 32,
   "id": "64110384-4c73-4ea3-8238-6137709df8f6",
   "metadata": {},
   "outputs": [
    {
     "data": {
      "text/plain": [
       "[Text(0.5, 1.0, 'mAP (test)')]"
      ]
     },
     "execution_count": 32,
     "metadata": {},
     "output_type": "execute_result"
    },
    {
     "data": {
      "image/png": "[encoded data removed]",
      "text/plain": [
       "<Figure size 432x288 with 1 Axes>"
      ]
     },
     "metadata": {
      "needs_background": "light"
     },
     "output_type": "display_data"
    }
   ],
   "source": [
    "df_mAP = pd.DataFrame(columns = [\"iou_thres\", \"mAP\"])\n",
    "\n",
    "for idx, mAP in enumerate(mAP_list):\n",
    "    row = pd.DataFrame({\"iou_thres\":[thresholds[idx]],\n",
    "                        \"mAP\": [mAP_list[idx].item()]})\n",
    "    df_mAP = pd.concat([df_mAP, row], axis = 0, ignore_index = True) \n",
    "    \n",
    "#df_mAP    \n",
    "    \n",
    "sns.lineplot(data = df_mAP, x =\"iou_thres\", y=\"mAP\").set(title = \"mAP (test)\")"
   ]
  },
  {
   "cell_type": "code",
   "execution_count": 34,
   "id": "3efa87bf-c63a-47c1-8103-a217b918d078",
   "metadata": {},
   "outputs": [
    {
     "data": {
      "text/html": [
       "<div>\n",
       "<style scoped>\n",
       "    .dataframe tbody tr th:only-of-type {\n",
       "        vertical-align: middle;\n",
       "    }\n",
       "\n",
       "    .dataframe tbody tr th {\n",
       "        vertical-align: top;\n",
       "    }\n",
       "\n",
       "    .dataframe thead th {\n",
       "        text-align: right;\n",
       "    }\n",
       "</style>\n",
       "<table border=\"1\" class=\"dataframe\">\n",
       "  <thead>\n",
       "    <tr style=\"text-align: right;\">\n",
       "      <th></th>\n",
       "      <th>iou_thres</th>\n",
       "      <th>mAP</th>\n",
       "    </tr>\n",
       "  </thead>\n",
       "  <tbody>\n",
       "    <tr>\n",
       "      <th>0</th>\n",
       "      <td>0.5</td>\n",
       "      <td>0.051246</td>\n",
       "    </tr>\n",
       "    <tr>\n",
       "      <th>1</th>\n",
       "      <td>0.55</td>\n",
       "      <td>0.044669</td>\n",
       "    </tr>\n",
       "    <tr>\n",
       "      <th>2</th>\n",
       "      <td>0.6</td>\n",
       "      <td>0.039859</td>\n",
       "    </tr>\n",
       "    <tr>\n",
       "      <th>3</th>\n",
       "      <td>0.65</td>\n",
       "      <td>0.034772</td>\n",
       "    </tr>\n",
       "    <tr>\n",
       "      <th>4</th>\n",
       "      <td>0.7</td>\n",
       "      <td>0.022093</td>\n",
       "    </tr>\n",
       "    <tr>\n",
       "      <th>5</th>\n",
       "      <td>0.75</td>\n",
       "      <td>0.01706</td>\n",
       "    </tr>\n",
       "    <tr>\n",
       "      <th>6</th>\n",
       "      <td>0.8</td>\n",
       "      <td>0.011813</td>\n",
       "    </tr>\n",
       "    <tr>\n",
       "      <th>7</th>\n",
       "      <td>0.85</td>\n",
       "      <td>0.005427</td>\n",
       "    </tr>\n",
       "    <tr>\n",
       "      <th>8</th>\n",
       "      <td>0.9</td>\n",
       "      <td>0.000218</td>\n",
       "    </tr>\n",
       "    <tr>\n",
       "      <th>9</th>\n",
       "      <td>0.95</td>\n",
       "      <td>0.000024</td>\n",
       "    </tr>\n",
       "  </tbody>\n",
       "</table>\n",
       "</div>"
      ],
      "text/plain": [
       "  iou_thres       mAP\n",
       "0       0.5  0.051246\n",
       "1      0.55  0.044669\n",
       "2       0.6  0.039859\n",
       "3      0.65  0.034772\n",
       "4       0.7  0.022093\n",
       "5      0.75   0.01706\n",
       "6       0.8  0.011813\n",
       "7      0.85  0.005427\n",
       "8       0.9  0.000218\n",
       "9      0.95  0.000024"
      ]
     },
     "execution_count": 34,
     "metadata": {},
     "output_type": "execute_result"
    }
   ],
   "source": [
    "df_mAP"
   ]
  },
  {
   "cell_type": "code",
   "execution_count": null,
   "id": "822285a8-d3d7-4e9b-8d53-270cc19f3054",
   "metadata": {},
   "outputs": [],
   "source": [
    "for idx,X, y in test_loader:\n"
   ]
  }
 ],
 "metadata": {
  "kernelspec": {
   "display_name": "Python 3",
   "language": "python",
   "name": "python3"
  },
  "language_info": {
   "codemirror_mode": {
    "name": "ipython",
    "version": 3
   },
   "file_extension": ".py",
   "mimetype": "text/x-python",
   "name": "python",
   "nbconvert_exporter": "python",
   "pygments_lexer": "ipython3",
   "version": "3.8.10"
  }
 },
 "nbformat": 4,
 "nbformat_minor": 5
}
